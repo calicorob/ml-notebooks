{
 "cells": [
  {
   "cell_type": "code",
   "execution_count": 1,
   "id": "02b54db8",
   "metadata": {},
   "outputs": [],
   "source": [
    "from fastcore.all import *\n",
    "from fastai.vision.widgets import *\n",
    "from fastai.vision.all import *\n",
    "\n",
    "import os\n",
    "from os.path import join\n",
    "\n",
    "import PIL\n",
    "import numpy as np\n",
    "\n",
    "import matplotlib.pyplot as plt\n",
    "\n",
    "import torch.nn\n",
    "import torch"
   ]
  },
  {
   "cell_type": "code",
   "execution_count": 2,
   "id": "1660ec26",
   "metadata": {},
   "outputs": [
    {
     "data": {
      "text/plain": [
       "Path('C:/Users/0rc44/.fastai/data/mnist_sample')"
      ]
     },
     "execution_count": 2,
     "metadata": {},
     "output_type": "execute_result"
    }
   ],
   "source": [
    "path = untar_data(URLs.MNIST_SAMPLE)\n",
    "path"
   ]
  },
  {
   "cell_type": "code",
   "execution_count": 3,
   "id": "c293b6a4",
   "metadata": {},
   "outputs": [],
   "source": [
    "train_path = path/'train'\n",
    "test_path = path/'test'"
   ]
  },
  {
   "cell_type": "code",
   "execution_count": 4,
   "id": "cffeab86",
   "metadata": {},
   "outputs": [],
   "source": [
    "labels = list()\n",
    "data = list()\n",
    "for root,dirs,files in os.walk(path):\n",
    "    for file in files:\n",
    "        if file.endswith(\".png\"):\n",
    "            img = PIL.Image.open(join(root,file))\n",
    "            data.append(np.asarray(img).flatten())\n",
    "            labels.append(parent_label(join(root,file)))\n",
    "\n",
    "# data[0]\n",
    "\n",
    "labels = np.array(labels,dtype=int)\n",
    "data = np.stack(data,axis=0)"
   ]
  },
  {
   "cell_type": "code",
   "execution_count": 5,
   "id": "886d0660",
   "metadata": {},
   "outputs": [
    {
     "data": {
      "text/plain": [
       "(14434, 784)"
      ]
     },
     "execution_count": 5,
     "metadata": {},
     "output_type": "execute_result"
    }
   ],
   "source": [
    "data.shape"
   ]
  },
  {
   "cell_type": "code",
   "execution_count": 6,
   "id": "69240ffe",
   "metadata": {},
   "outputs": [
    {
     "data": {
      "text/plain": [
       "(14434,)"
      ]
     },
     "execution_count": 6,
     "metadata": {},
     "output_type": "execute_result"
    }
   ],
   "source": [
    "labels.shape"
   ]
  },
  {
   "cell_type": "code",
   "execution_count": 7,
   "id": "92e397b5",
   "metadata": {},
   "outputs": [],
   "source": [
    "train_data = data / 255\n",
    "test_data = (labels == 3).reshape(-1,1)"
   ]
  },
  {
   "cell_type": "code",
   "execution_count": 8,
   "id": "7e6356df",
   "metadata": {},
   "outputs": [],
   "source": [
    "X = torch.tensor(train_data)\n",
    "y = torch.tensor(test_data).long()"
   ]
  },
  {
   "cell_type": "code",
   "execution_count": 9,
   "id": "2ce134ad",
   "metadata": {},
   "outputs": [
    {
     "data": {
      "text/plain": [
       "tensor([[0., 0., 0.,  ..., 0., 0., 0.],\n",
       "        [0., 0., 0.,  ..., 0., 0., 0.],\n",
       "        [0., 0., 0.,  ..., 0., 0., 0.],\n",
       "        ...,\n",
       "        [0., 0., 0.,  ..., 0., 0., 0.],\n",
       "        [0., 0., 0.,  ..., 0., 0., 0.],\n",
       "        [0., 0., 0.,  ..., 0., 0., 0.]], dtype=torch.float64)"
      ]
     },
     "execution_count": 9,
     "metadata": {},
     "output_type": "execute_result"
    }
   ],
   "source": [
    "X"
   ]
  },
  {
   "cell_type": "code",
   "execution_count": 10,
   "id": "69445e36",
   "metadata": {},
   "outputs": [
    {
     "data": {
      "text/plain": [
       "tensor([[1],\n",
       "        [1],\n",
       "        [1],\n",
       "        ...,\n",
       "        [0],\n",
       "        [0],\n",
       "        [0]])"
      ]
     },
     "execution_count": 10,
     "metadata": {},
     "output_type": "execute_result"
    }
   ],
   "source": [
    "y"
   ]
  },
  {
   "cell_type": "code",
   "execution_count": 11,
   "id": "6260c223",
   "metadata": {},
   "outputs": [],
   "source": [
    "class Classifier(torch.nn.Module):\n",
    "    def __init__(self,n_inputs,n_outputs):\n",
    "        super(Classifier,self).__init__()\n",
    "        self.linear = torch.nn.Linear(in_features=n_inputs,out_features=n_outputs)\n",
    "        \n",
    "    def forward(self,x):\n",
    "        return self.linear(x.float()).sigmoid()"
   ]
  },
  {
   "cell_type": "code",
   "execution_count": 12,
   "id": "c17494e1",
   "metadata": {},
   "outputs": [],
   "source": [
    "torch_model = Classifier(n_inputs = data.shape[-1],n_outputs = 1)"
   ]
  },
  {
   "cell_type": "code",
   "execution_count": 13,
   "id": "19a796ad",
   "metadata": {},
   "outputs": [
    {
     "data": {
      "text/plain": [
       "tensor(0.5200)"
      ]
     },
     "execution_count": 13,
     "metadata": {},
     "output_type": "execute_result"
    }
   ],
   "source": [
    "((torch_model(X) > 0.5) == y).float().mean()"
   ]
  },
  {
   "cell_type": "code",
   "execution_count": 14,
   "id": "addff6ab",
   "metadata": {},
   "outputs": [],
   "source": [
    "epochs = 100\n",
    "\n",
    "criterion = torch.nn.BCELoss()\n",
    "optimizer = torch.optim.SGD(torch_model.parameters(),lr=0.01)\n",
    "\n",
    "\n",
    "# training loop \n",
    "for epoch in range(epochs):\n",
    "    y_pred = torch_model(X)\n",
    "    loss = criterion(y_pred.flatten().float(),y.flatten().float())\n",
    "    optimizer.zero_grad()\n",
    "    loss.backward()\n",
    "    optimizer.step()"
   ]
  },
  {
   "cell_type": "code",
   "execution_count": 15,
   "id": "aa7915ae",
   "metadata": {},
   "outputs": [
    {
     "data": {
      "text/plain": [
       "tensor(0.9675)"
      ]
     },
     "execution_count": 15,
     "metadata": {},
     "output_type": "execute_result"
    }
   ],
   "source": [
    "((torch_model(X) > 0.5) == y).float().mean()"
   ]
  },
  {
   "cell_type": "code",
   "execution_count": null,
   "id": "2c6724fe",
   "metadata": {},
   "outputs": [],
   "source": []
  }
 ],
 "metadata": {
  "kernelspec": {
   "display_name": "Python 3",
   "language": "python",
   "name": "python3"
  },
  "language_info": {
   "codemirror_mode": {
    "name": "ipython",
    "version": 3
   },
   "file_extension": ".py",
   "mimetype": "text/x-python",
   "name": "python",
   "nbconvert_exporter": "python",
   "pygments_lexer": "ipython3",
   "version": "3.7.9"
  }
 },
 "nbformat": 4,
 "nbformat_minor": 5
}
