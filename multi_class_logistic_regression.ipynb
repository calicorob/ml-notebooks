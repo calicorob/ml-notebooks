{
 "cells": [
  {
   "cell_type": "code",
   "execution_count": 1,
   "id": "ca46354d-1e58-4ca8-87e1-1b233f34273d",
   "metadata": {},
   "outputs": [],
   "source": [
    "# library imports \n",
    "\n",
    "from sklearn.model_selection import train_test_split\n",
    "from sklearn.metrics import roc_auc_score, log_loss\n",
    "import numpy as np"
   ]
  },
  {
   "cell_type": "code",
   "execution_count": 2,
   "id": "c9753d81-a733-45d7-82d2-a329028cd119",
   "metadata": {},
   "outputs": [],
   "source": [
    "# regression data\n",
    "import random\n",
    "from sklearn.datasets import make_classification\n",
    "\n",
    "# rng\n",
    "random.seed(0)\n",
    "\n",
    "regression_params = {\n",
    "     'n_samples':1000\n",
    "    ,'n_features':5\n",
    "    ,'n_informative':3\n",
    "    ,'n_redundant':0\n",
    "    ,'n_repeated':0\n",
    "    ,'n_classes' : 4\n",
    "    ,'n_clusters_per_class':1\n",
    "    ,'random_state':0\n",
    "    ,'class_sep' : .2\n",
    "}\n",
    "\n",
    "X,y = make_classification(**regression_params)\n",
    "\n",
    "# add constant\n",
    "X = np.concatenate([X,np.ones(shape=(len(X),1))],axis=1)\n",
    "\n",
    "# train / test splits\n",
    "X_train,X_test,y_train,y_test = train_test_split(X,y)"
   ]
  },
  {
   "cell_type": "markdown",
   "id": "bff8bbe1-9e44-45b4-93b9-532881b536cb",
   "metadata": {},
   "source": [
    "# statsmodels"
   ]
  },
  {
   "cell_type": "code",
   "execution_count": 3,
   "id": "0fdc1260-bbcf-463b-83c2-5a0c882fb8e1",
   "metadata": {},
   "outputs": [],
   "source": [
    "import statsmodels.api as sm"
   ]
  },
  {
   "cell_type": "code",
   "execution_count": 4,
   "id": "05eba825-2f9f-487e-86a4-b2dac6389eb1",
   "metadata": {},
   "outputs": [],
   "source": [
    "sm_model = sm.MNLogit(endog=y_train,exog=X_train)"
   ]
  },
  {
   "cell_type": "code",
   "execution_count": 5,
   "id": "6169c1a0-6312-4077-8ea1-c2e321cb61b8",
   "metadata": {},
   "outputs": [
    {
     "name": "stdout",
     "output_type": "stream",
     "text": [
      "Optimization terminated successfully    (Exit mode 0)\n",
      "            Current function value: 1.2984772059099112\n",
      "            Iterations: 41\n",
      "            Function evaluations: 41\n",
      "            Gradient evaluations: 41\n"
     ]
    }
   ],
   "source": [
    "result = sm_model.fit_regularized(maxiter=1000)"
   ]
  },
  {
   "cell_type": "code",
   "execution_count": 6,
   "id": "5b66605f-2e26-42df-8458-270c8d6b177f",
   "metadata": {},
   "outputs": [
    {
     "name": "stdout",
     "output_type": "stream",
     "text": [
      "                          MNLogit Regression Results                          \n",
      "==============================================================================\n",
      "Dep. Variable:                      y   No. Observations:                  750\n",
      "Model:                        MNLogit   Df Residuals:                      732\n",
      "Method:                           MLE   Df Model:                           15\n",
      "Date:                Tue, 06 Jul 2021   Pseudo R-squ.:                 0.06269\n",
      "Time:                        21:47:01   Log-Likelihood:                -973.86\n",
      "converged:                       True   LL-Null:                       -1039.0\n",
      "Covariance Type:            nonrobust   LLR p-value:                 1.877e-20\n",
      "==============================================================================\n",
      "       y=1       coef    std err          z      P>|z|      [0.025      0.975]\n",
      "------------------------------------------------------------------------------\n",
      "x1            -0.0546      0.113     -0.481      0.630      -0.277       0.168\n",
      "x2            -0.5928      0.114     -5.214      0.000      -0.816      -0.370\n",
      "x3             0.0138      0.159      0.087      0.931      -0.299       0.326\n",
      "x4             0.1527      0.107      1.427      0.153      -0.057       0.362\n",
      "x5            -0.0075      0.105     -0.071      0.943      -0.214       0.199\n",
      "const          0.1752      0.113      1.552      0.121      -0.046       0.396\n",
      "------------------------------------------------------------------------------\n",
      "       y=2       coef    std err          z      P>|z|      [0.025      0.975]\n",
      "------------------------------------------------------------------------------\n",
      "x1             0.4764      0.117      4.076      0.000       0.247       0.705\n",
      "x2            -0.6657      0.116     -5.735      0.000      -0.893      -0.438\n",
      "x3            -0.8408      0.171     -4.913      0.000      -1.176      -0.505\n",
      "x4             0.1294      0.110      1.173      0.241      -0.087       0.346\n",
      "x5            -0.0011      0.110     -0.010      0.992      -0.217       0.215\n",
      "const          0.0707      0.116      0.610      0.542      -0.156       0.298\n",
      "------------------------------------------------------------------------------\n",
      "       y=3       coef    std err          z      P>|z|      [0.025      0.975]\n",
      "------------------------------------------------------------------------------\n",
      "x1             0.3033      0.115      2.626      0.009       0.077       0.530\n",
      "x2            -0.1607      0.111     -1.451      0.147      -0.378       0.056\n",
      "x3             0.2224      0.161      1.383      0.167      -0.093       0.538\n",
      "x4             0.2244      0.106      2.118      0.034       0.017       0.432\n",
      "x5             0.0264      0.107      0.247      0.805      -0.183       0.236\n",
      "const          0.0505      0.117      0.430      0.667      -0.180       0.281\n",
      "==============================================================================\n"
     ]
    }
   ],
   "source": [
    "print(result.summary())"
   ]
  },
  {
   "cell_type": "code",
   "execution_count": 7,
   "id": "67c89f5e-774d-4382-a666-5b60d8b32ce9",
   "metadata": {},
   "outputs": [
    {
     "data": {
      "text/plain": [
       "0.36"
      ]
     },
     "execution_count": 7,
     "metadata": {},
     "output_type": "execute_result"
    }
   ],
   "source": [
    "# accuracy\n",
    "(np.argmax(result.predict(X_test),axis=1) == y_test).mean()"
   ]
  },
  {
   "cell_type": "code",
   "execution_count": 8,
   "id": "eac53384-6f90-4b8a-80e9-f6d69e915195",
   "metadata": {},
   "outputs": [
    {
     "data": {
      "text/plain": [
       "0.6653827462996299"
      ]
     },
     "execution_count": 8,
     "metadata": {},
     "output_type": "execute_result"
    }
   ],
   "source": [
    "# roc auc\n",
    "roc_auc_score(y_test,result.predict(X_test),multi_class='ovr')"
   ]
  },
  {
   "cell_type": "markdown",
   "id": "99a478fa-547a-4e4b-8e2f-7ac3dea20889",
   "metadata": {},
   "source": [
    "# sklearn"
   ]
  },
  {
   "cell_type": "code",
   "execution_count": 9,
   "id": "eb442187-a39d-4eb6-ad92-63b641c85521",
   "metadata": {},
   "outputs": [],
   "source": [
    "from sklearn.linear_model import LogisticRegression"
   ]
  },
  {
   "cell_type": "code",
   "execution_count": 10,
   "id": "621495e0-7627-4531-bef5-1431e0d23001",
   "metadata": {},
   "outputs": [],
   "source": [
    "sk_model = LogisticRegression(multi_class='ovr')"
   ]
  },
  {
   "cell_type": "code",
   "execution_count": 11,
   "id": "b516fef1-9c1f-435f-a616-2e07e4bdbecb",
   "metadata": {},
   "outputs": [],
   "source": [
    "sk_model = sk_model.fit(X_train[:,0:-1],y_train)"
   ]
  },
  {
   "cell_type": "code",
   "execution_count": 12,
   "id": "385a17b6-cd92-4af2-8a14-438684bee0e0",
   "metadata": {},
   "outputs": [
    {
     "data": {
      "text/plain": [
       "array([[-2.23386574e-01,  4.61901402e-01,  1.62301064e-01,\n",
       "        -1.70926615e-01, -8.73495811e-03],\n",
       "       [-3.37800917e-01, -2.93954707e-01,  2.28866446e-01,\n",
       "         2.85046178e-02, -1.81787090e-02],\n",
       "       [ 3.91953369e-01, -3.92626338e-01, -8.88712087e-01,\n",
       "        -2.73145394e-04, -4.63002598e-03],\n",
       "       [ 1.72442010e-01,  2.53986542e-01,  4.75584792e-01,\n",
       "         1.33588486e-01,  2.18090386e-02]])"
      ]
     },
     "execution_count": 12,
     "metadata": {},
     "output_type": "execute_result"
    }
   ],
   "source": [
    "sk_model.coef_"
   ]
  },
  {
   "cell_type": "code",
   "execution_count": 13,
   "id": "ee3ab30c-83e8-475f-b3c0-8de471e3fca3",
   "metadata": {},
   "outputs": [
    {
     "data": {
      "text/plain": [
       "array([-1.27373737, -1.05333191, -1.15251165, -1.21814538])"
      ]
     },
     "execution_count": 13,
     "metadata": {},
     "output_type": "execute_result"
    }
   ],
   "source": [
    "sk_model.intercept_"
   ]
  },
  {
   "cell_type": "code",
   "execution_count": 14,
   "id": "c3f87527-1bba-4596-9329-4b76c789cb7a",
   "metadata": {},
   "outputs": [
    {
     "data": {
      "text/plain": [
       "0.36"
      ]
     },
     "execution_count": 14,
     "metadata": {},
     "output_type": "execute_result"
    }
   ],
   "source": [
    "# accuracy\n",
    "(sk_model.predict(X_test[:,0:-1]) == y_test).mean()"
   ]
  },
  {
   "cell_type": "code",
   "execution_count": 15,
   "id": "9c9db1e6-38e9-4b7c-ab61-40f33315f124",
   "metadata": {},
   "outputs": [
    {
     "data": {
      "text/plain": [
       "0.6658679362052116"
      ]
     },
     "execution_count": 15,
     "metadata": {},
     "output_type": "execute_result"
    }
   ],
   "source": [
    "# roc auc\n",
    "roc_auc_score(y_test,sk_model.predict_proba(X_test[:,0:-1]),multi_class='ovr')"
   ]
  },
  {
   "cell_type": "markdown",
   "id": "4b65d169-7e36-4ad9-a576-1ba12e590ea6",
   "metadata": {},
   "source": [
    "# pure python"
   ]
  },
  {
   "cell_type": "code",
   "execution_count": 16,
   "id": "a3eb5978-8e01-4a22-8895-e7942dc5ecdf",
   "metadata": {},
   "outputs": [],
   "source": [
    "# turn back into numpy arrays\n",
    "\n",
    "X_train = X_train\n",
    "y_train = y_train.reshape(-1,1)"
   ]
  },
  {
   "cell_type": "code",
   "execution_count": 17,
   "id": "0b15ba15-9cb1-45d7-a524-abc31a070f05",
   "metadata": {},
   "outputs": [],
   "source": [
    "# functions\n",
    "\n",
    "def sigmoid(x):\n",
    "    return 1/(1+np.exp(-x))\n",
    "\n",
    "def predict(x,beta):\n",
    "    return sigmoid(np.dot(x,beta))\n",
    "\n",
    "def gradient_step(beta,grad,step_size=0.01):\n",
    "    return beta - step_size*grad\n",
    "\n",
    "def gradient(x,beta,y_true):\n",
    "    y_pred = predict(x,beta)\n",
    "    \n",
    "    return np.dot(np.transpose(x),(y_pred-y_true))/len(x)"
   ]
  },
  {
   "cell_type": "code",
   "execution_count": 18,
   "id": "003b4444-0eb5-4299-99ad-127694c95672",
   "metadata": {},
   "outputs": [
    {
     "data": {
      "text/plain": [
       "array([[0.84442185, 0.78379859, 0.28183784, 0.81021724],\n",
       "       [0.7579544 , 0.30331273, 0.7558042 , 0.90216595],\n",
       "       [0.42057158, 0.47659695, 0.618369  , 0.31014757],\n",
       "       [0.25891675, 0.58338204, 0.25050634, 0.72983175],\n",
       "       [0.51127472, 0.90811289, 0.90974626, 0.89883829],\n",
       "       [0.40493414, 0.50468686, 0.98278548, 0.68398393]])"
      ]
     },
     "execution_count": 18,
     "metadata": {},
     "output_type": "execute_result"
    }
   ],
   "source": [
    "betas = np.zeros(shape=(regression_params['n_features']+1,regression_params['n_classes']))\n",
    "for _class in np.unique(y):\n",
    "    betas[:,_class] = [random.random() for _ in range(len(betas))]\n",
    "betas"
   ]
  },
  {
   "cell_type": "code",
   "execution_count": 19,
   "id": "4cb2259a-ba58-4e74-ba32-9984952ef0ae",
   "metadata": {},
   "outputs": [],
   "source": [
    "epochs = 100000\n",
    "for _class in np.unique(y):\n",
    "    beta = betas[:,_class].reshape(-1,1)\n",
    "    for epoch in range(epochs):\n",
    "        grad = gradient(x=X_train,beta=beta,y_true=(y_train==_class).astype('int'))\n",
    "        beta = gradient_step(beta=beta,grad=grad,step_size=0.1)\n",
    "    betas[:,_class] = beta.flat[:]"
   ]
  },
  {
   "cell_type": "code",
   "execution_count": 20,
   "id": "720bd5c8-69ed-4316-97a1-6ba51b852cf1",
   "metadata": {},
   "outputs": [
    {
     "data": {
      "text/plain": [
       "array([[-2.26282818e-01, -3.40409617e-01,  3.96983992e-01,\n",
       "         1.73491619e-01],\n",
       "       [ 4.66551597e-01, -2.95727059e-01, -3.98229965e-01,\n",
       "         2.56867153e-01],\n",
       "       [ 1.66542977e-01,  2.32308357e-01, -9.07153792e-01,\n",
       "         4.83763461e-01],\n",
       "       [-1.72496044e-01,  2.88923931e-02, -2.58895962e-04,\n",
       "         1.34485278e-01],\n",
       "       [-8.55878637e-03, -1.83972324e-02, -5.49724574e-03,\n",
       "         2.23325148e-02],\n",
       "       [-1.27558545e+00, -1.05421466e+00, -1.15479799e+00,\n",
       "        -1.22037716e+00]])"
      ]
     },
     "execution_count": 20,
     "metadata": {},
     "output_type": "execute_result"
    }
   ],
   "source": [
    "betas"
   ]
  },
  {
   "cell_type": "code",
   "execution_count": 21,
   "id": "30538d20-4341-4ed9-ac85-026e396ef959",
   "metadata": {},
   "outputs": [
    {
     "data": {
      "text/plain": [
       "0.36"
      ]
     },
     "execution_count": 21,
     "metadata": {},
     "output_type": "execute_result"
    }
   ],
   "source": [
    "# accuracy\n",
    "(np.argmax(predict(X_test,betas),axis=1) == y_test).mean()"
   ]
  },
  {
   "cell_type": "code",
   "execution_count": 22,
   "id": "fc5143e7-5171-4b25-bb41-d077775108a6",
   "metadata": {},
   "outputs": [
    {
     "data": {
      "text/plain": [
       "0.6658436502697178"
      ]
     },
     "execution_count": 22,
     "metadata": {},
     "output_type": "execute_result"
    }
   ],
   "source": [
    "# roc auc\n",
    "roc_auc_score(y_test,(predict(X_test,betas) /predict(X_test,betas).sum(axis=1).reshape(-1,1)),multi_class='ovr')"
   ]
  }
 ],
 "metadata": {
  "kernelspec": {
   "display_name": "Python 3",
   "language": "python",
   "name": "python3"
  },
  "language_info": {
   "codemirror_mode": {
    "name": "ipython",
    "version": 3
   },
   "file_extension": ".py",
   "mimetype": "text/x-python",
   "name": "python",
   "nbconvert_exporter": "python",
   "pygments_lexer": "ipython3",
   "version": "3.7.10"
  }
 },
 "nbformat": 4,
 "nbformat_minor": 5
}
