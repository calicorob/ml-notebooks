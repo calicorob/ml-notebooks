{
 "cells": [
  {
   "cell_type": "code",
   "execution_count": 1,
   "id": "ca46354d-1e58-4ca8-87e1-1b233f34273d",
   "metadata": {},
   "outputs": [],
   "source": [
    "# library imports \n",
    "\n",
    "from sklearn.model_selection import train_test_split\n",
    "from sklearn.metrics import roc_auc_score, log_loss\n",
    "import numpy as np"
   ]
  },
  {
   "cell_type": "code",
   "execution_count": 2,
   "id": "c9753d81-a733-45d7-82d2-a329028cd119",
   "metadata": {},
   "outputs": [],
   "source": [
    "# regression data\n",
    "import random\n",
    "from sklearn.datasets import make_classification\n",
    "\n",
    "# rng\n",
    "random.seed(0)\n",
    "\n",
    "regression_params = {\n",
    "     'n_samples':1000\n",
    "    ,'n_features':5\n",
    "    ,'n_informative':3\n",
    "    ,'n_redundant':0\n",
    "    ,'n_repeated':0\n",
    "    ,'n_classes' : 4\n",
    "    ,'n_clusters_per_class':1\n",
    "    ,'random_state':0\n",
    "    ,'class_sep' : .2\n",
    "}\n",
    "\n",
    "X,y = make_classification(**regression_params)\n",
    "\n",
    "# add constant\n",
    "X = np.concatenate([X,np.ones(shape=(len(X),1))],axis=1)\n",
    "\n",
    "# train / test splits\n",
    "X_train,X_test,y_train,y_test = train_test_split(X,y)"
   ]
  },
  {
   "cell_type": "markdown",
   "id": "bff8bbe1-9e44-45b4-93b9-532881b536cb",
   "metadata": {},
   "source": [
    "# statsmodels"
   ]
  },
  {
   "cell_type": "code",
   "execution_count": 3,
   "id": "0fdc1260-bbcf-463b-83c2-5a0c882fb8e1",
   "metadata": {},
   "outputs": [],
   "source": [
    "import statsmodels.api as sm"
   ]
  },
  {
   "cell_type": "code",
   "execution_count": 4,
   "id": "05eba825-2f9f-487e-86a4-b2dac6389eb1",
   "metadata": {},
   "outputs": [],
   "source": [
    "sm_model = sm.MNLogit(endog=y_train,exog=X_train)"
   ]
  },
  {
   "cell_type": "code",
   "execution_count": 5,
   "id": "6169c1a0-6312-4077-8ea1-c2e321cb61b8",
   "metadata": {},
   "outputs": [
    {
     "name": "stdout",
     "output_type": "stream",
     "text": [
      "Optimization terminated successfully    (Exit mode 0)\n",
      "            Current function value: 1.2892789813406902\n",
      "            Iterations: 41\n",
      "            Function evaluations: 41\n",
      "            Gradient evaluations: 41\n"
     ]
    }
   ],
   "source": [
    "result = sm_model.fit_regularized(maxiter=1000)"
   ]
  },
  {
   "cell_type": "code",
   "execution_count": 6,
   "id": "5b66605f-2e26-42df-8458-270c8d6b177f",
   "metadata": {},
   "outputs": [
    {
     "name": "stdout",
     "output_type": "stream",
     "text": [
      "                          MNLogit Regression Results                          \n",
      "==============================================================================\n",
      "Dep. Variable:                      y   No. Observations:                  750\n",
      "Model:                        MNLogit   Df Residuals:                      732\n",
      "Method:                           MLE   Df Model:                           15\n",
      "Date:                Sat, 28 Jan 2023   Pseudo R-squ.:                 0.06928\n",
      "Time:                        18:00:27   Log-Likelihood:                -966.96\n",
      "converged:                       True   LL-Null:                       -1038.9\n",
      "Covariance Type:            nonrobust   LLR p-value:                 3.825e-23\n",
      "==============================================================================\n",
      "       y=1       coef    std err          z      P>|z|      [0.025      0.975]\n",
      "------------------------------------------------------------------------------\n",
      "x1            -0.0112      0.119     -0.095      0.924      -0.244       0.221\n",
      "x2            -0.6398      0.121     -5.290      0.000      -0.877      -0.403\n",
      "x3            -0.0125      0.160     -0.078      0.938      -0.326       0.301\n",
      "x4             0.1576      0.109      1.450      0.147      -0.056       0.371\n",
      "x5            -0.0757      0.109     -0.695      0.487      -0.289       0.138\n",
      "const         -0.0710      0.115     -0.614      0.539      -0.297       0.155\n",
      "------------------------------------------------------------------------------\n",
      "       y=2       coef    std err          z      P>|z|      [0.025      0.975]\n",
      "------------------------------------------------------------------------------\n",
      "x1             0.5802      0.118      4.908      0.000       0.348       0.812\n",
      "x2            -0.7686      0.118     -6.496      0.000      -1.001      -0.537\n",
      "x3            -0.9170      0.167     -5.499      0.000      -1.244      -0.590\n",
      "x4             0.0803      0.108      0.743      0.458      -0.132       0.292\n",
      "x5            -0.0005      0.110     -0.005      0.996      -0.216       0.215\n",
      "const          0.0095      0.113      0.084      0.933      -0.212       0.231\n",
      "------------------------------------------------------------------------------\n",
      "       y=3       coef    std err          z      P>|z|      [0.025      0.975]\n",
      "------------------------------------------------------------------------------\n",
      "x1             0.3716      0.116      3.197      0.001       0.144       0.599\n",
      "x2            -0.2123      0.112     -1.890      0.059      -0.433       0.008\n",
      "x3             0.1444      0.157      0.921      0.357      -0.163       0.452\n",
      "x4             0.1038      0.104      1.003      0.316      -0.099       0.307\n",
      "x5             0.0974      0.107      0.913      0.361      -0.112       0.307\n",
      "const         -0.0356      0.115     -0.309      0.758      -0.261       0.190\n",
      "==============================================================================\n"
     ]
    }
   ],
   "source": [
    "print(result.summary())"
   ]
  },
  {
   "cell_type": "code",
   "execution_count": 7,
   "id": "67c89f5e-774d-4382-a666-5b60d8b32ce9",
   "metadata": {},
   "outputs": [
    {
     "data": {
      "text/plain": [
       "0.4"
      ]
     },
     "execution_count": 7,
     "metadata": {},
     "output_type": "execute_result"
    }
   ],
   "source": [
    "# accuracy\n",
    "(np.argmax(result.predict(X_test),axis=1)== y_test).mean()"
   ]
  },
  {
   "cell_type": "code",
   "execution_count": 8,
   "id": "eac53384-6f90-4b8a-80e9-f6d69e915195",
   "metadata": {},
   "outputs": [
    {
     "data": {
      "text/plain": [
       "0.6568321405043528"
      ]
     },
     "execution_count": 8,
     "metadata": {},
     "output_type": "execute_result"
    }
   ],
   "source": [
    "# roc auc\n",
    "roc_auc_score(y_test,result.predict(X_test),multi_class='ovr')"
   ]
  },
  {
   "cell_type": "markdown",
   "id": "99a478fa-547a-4e4b-8e2f-7ac3dea20889",
   "metadata": {},
   "source": [
    "# sklearn"
   ]
  },
  {
   "cell_type": "code",
   "execution_count": 9,
   "id": "eb442187-a39d-4eb6-ad92-63b641c85521",
   "metadata": {},
   "outputs": [],
   "source": [
    "from sklearn.linear_model import LogisticRegression"
   ]
  },
  {
   "cell_type": "code",
   "execution_count": 10,
   "id": "621495e0-7627-4531-bef5-1431e0d23001",
   "metadata": {},
   "outputs": [],
   "source": [
    "sk_model = LogisticRegression(multi_class='ovr')"
   ]
  },
  {
   "cell_type": "code",
   "execution_count": 11,
   "id": "b516fef1-9c1f-435f-a616-2e07e4bdbecb",
   "metadata": {},
   "outputs": [],
   "source": [
    "sk_model = sk_model.fit(X_train[:,0:-1],y_train)"
   ]
  },
  {
   "cell_type": "code",
   "execution_count": 12,
   "id": "385a17b6-cd92-4af2-8a14-438684bee0e0",
   "metadata": {},
   "outputs": [
    {
     "data": {
      "text/plain": [
       "array([[-0.30672041,  0.52210748,  0.23327633, -0.11700328, -0.0084696 ],\n",
       "       [-0.35207948, -0.28023505,  0.26558992,  0.09148067, -0.106462  ],\n",
       "       [ 0.44906086, -0.47887949, -0.92485383, -0.00975547, -0.00448302],\n",
       "       [ 0.17785134,  0.23713595,  0.44564524,  0.03422481,  0.11514281]])"
      ]
     },
     "execution_count": 12,
     "metadata": {},
     "output_type": "execute_result"
    }
   ],
   "source": [
    "sk_model.coef_"
   ]
  },
  {
   "cell_type": "code",
   "execution_count": 13,
   "id": "ee3ab30c-83e8-475f-b3c0-8de471e3fca3",
   "metadata": {},
   "outputs": [
    {
     "data": {
      "text/plain": [
       "array([-1.14577753, -1.25937846, -1.10287189, -1.21661989])"
      ]
     },
     "execution_count": 13,
     "metadata": {},
     "output_type": "execute_result"
    }
   ],
   "source": [
    "sk_model.intercept_"
   ]
  },
  {
   "cell_type": "code",
   "execution_count": 14,
   "id": "c3f87527-1bba-4596-9329-4b76c789cb7a",
   "metadata": {},
   "outputs": [
    {
     "data": {
      "text/plain": [
       "0.412"
      ]
     },
     "execution_count": 14,
     "metadata": {},
     "output_type": "execute_result"
    }
   ],
   "source": [
    "# accuracy\n",
    "(sk_model.predict(X_test[:,0:-1]) == y_test).mean()"
   ]
  },
  {
   "cell_type": "code",
   "execution_count": 15,
   "id": "9c9db1e6-38e9-4b7c-ab61-40f33315f124",
   "metadata": {},
   "outputs": [
    {
     "data": {
      "text/plain": [
       "0.6563500989505626"
      ]
     },
     "execution_count": 15,
     "metadata": {},
     "output_type": "execute_result"
    }
   ],
   "source": [
    "# roc auc\n",
    "roc_auc_score(y_test,sk_model.predict_proba(X_test[:,0:-1]),multi_class='ovr')"
   ]
  },
  {
   "cell_type": "markdown",
   "id": "4b65d169-7e36-4ad9-a576-1ba12e590ea6",
   "metadata": {},
   "source": [
    "# pure python"
   ]
  },
  {
   "cell_type": "code",
   "execution_count": 16,
   "id": "a3eb5978-8e01-4a22-8895-e7942dc5ecdf",
   "metadata": {},
   "outputs": [],
   "source": [
    "# turn back into numpy arrays\n",
    "\n",
    "X_train = X_train\n",
    "y_train = y_train.reshape(-1,1)"
   ]
  },
  {
   "cell_type": "code",
   "execution_count": 17,
   "id": "0b15ba15-9cb1-45d7-a524-abc31a070f05",
   "metadata": {},
   "outputs": [],
   "source": [
    "# functions\n",
    "\n",
    "def sigmoid(x):\n",
    "    return 1/(1+np.exp(-x))\n",
    "\n",
    "def predict(x,beta):\n",
    "    return sigmoid(np.dot(x,beta))\n",
    "\n",
    "def gradient_step(beta,grad,step_size=0.01):\n",
    "    return beta - step_size*grad\n",
    "\n",
    "def gradient(x,beta,y_true):\n",
    "    y_pred = predict(x,beta)\n",
    "    \n",
    "    return np.dot(np.transpose(x),(y_pred-y_true))/len(x)"
   ]
  },
  {
   "cell_type": "code",
   "execution_count": 18,
   "id": "003b4444-0eb5-4299-99ad-127694c95672",
   "metadata": {},
   "outputs": [
    {
     "data": {
      "text/plain": [
       "array([[0.84442185, 0.78379859, 0.28183784, 0.81021724],\n",
       "       [0.7579544 , 0.30331273, 0.7558042 , 0.90216595],\n",
       "       [0.42057158, 0.47659695, 0.618369  , 0.31014757],\n",
       "       [0.25891675, 0.58338204, 0.25050634, 0.72983175],\n",
       "       [0.51127472, 0.90811289, 0.90974626, 0.89883829],\n",
       "       [0.40493414, 0.50468686, 0.98278548, 0.68398393]])"
      ]
     },
     "execution_count": 18,
     "metadata": {},
     "output_type": "execute_result"
    }
   ],
   "source": [
    "betas = np.zeros(shape=(regression_params['n_features']+1,regression_params['n_classes']))\n",
    "for _class in np.unique(y):\n",
    "    betas[:,_class] = [random.random() for _ in range(len(betas))]\n",
    "betas"
   ]
  },
  {
   "cell_type": "code",
   "execution_count": 19,
   "id": "4cb2259a-ba58-4e74-ba32-9984952ef0ae",
   "metadata": {},
   "outputs": [],
   "source": [
    "epochs = 100000\n",
    "for _class in np.unique(y):\n",
    "    beta = betas[:,_class].reshape(-1,1)\n",
    "    for epoch in range(epochs):\n",
    "        grad = gradient(x=X_train,beta=beta,y_true=(y_train==_class).astype('int'))\n",
    "        beta = gradient_step(beta=beta,grad=grad,step_size=0.1)\n",
    "    betas[:,_class] = beta.flat[:]"
   ]
  },
  {
   "cell_type": "code",
   "execution_count": 20,
   "id": "720bd5c8-69ed-4316-97a1-6ba51b852cf1",
   "metadata": {},
   "outputs": [
    {
     "data": {
      "text/plain": [
       "array([[-0.31091651, -0.35520343,  0.45528877,  0.17895338],\n",
       "       [ 0.52808986, -0.28184945, -0.48642954,  0.24007559],\n",
       "       [ 0.23928012,  0.26980223, -0.94443672,  0.45329399],\n",
       "       [-0.11803808,  0.09220572, -0.00951351,  0.03412835],\n",
       "       [-0.00850577, -0.10740909, -0.00478774,  0.11630634],\n",
       "       [-1.14816671, -1.26070482, -1.10516299, -1.21876915]])"
      ]
     },
     "execution_count": 20,
     "metadata": {},
     "output_type": "execute_result"
    }
   ],
   "source": [
    "betas"
   ]
  },
  {
   "cell_type": "code",
   "execution_count": 21,
   "id": "30538d20-4341-4ed9-ac85-026e396ef959",
   "metadata": {},
   "outputs": [
    {
     "data": {
      "text/plain": [
       "0.412"
      ]
     },
     "execution_count": 21,
     "metadata": {},
     "output_type": "execute_result"
    }
   ],
   "source": [
    "# accuracy\n",
    "(np.argmax(predict(X_test,betas),axis=1) == y_test).mean()"
   ]
  },
  {
   "cell_type": "code",
   "execution_count": 22,
   "id": "fc5143e7-5171-4b25-bb41-d077775108a6",
   "metadata": {},
   "outputs": [
    {
     "data": {
      "text/plain": [
       "0.656529271565547"
      ]
     },
     "execution_count": 22,
     "metadata": {},
     "output_type": "execute_result"
    }
   ],
   "source": [
    "# roc auc\n",
    "roc_auc_score(y_test,(predict(X_test,betas) /predict(X_test,betas).sum(axis=1).reshape(-1,1)),multi_class='ovr')"
   ]
  },
  {
   "cell_type": "markdown",
   "id": "4f429453-39f8-4e79-8bbe-d58c360c86b1",
   "metadata": {},
   "source": [
    "# pytorch"
   ]
  },
  {
   "cell_type": "code",
   "execution_count": 23,
   "id": "89c4a294-d924-4280-84ff-558fa37c5a3d",
   "metadata": {},
   "outputs": [],
   "source": [
    "import torch\n",
    "import torch.nn"
   ]
  },
  {
   "cell_type": "code",
   "execution_count": 24,
   "id": "0186ee27-dda4-4a45-9b14-66d8524b2d09",
   "metadata": {},
   "outputs": [],
   "source": [
    "class Classifier(torch.nn.Module):\n",
    "    def __init__(self,n_inputs,n_outputs):\n",
    "        super(Classifier,self).__init__()\n",
    "        self.__clf = torch.nn.Linear(n_inputs,n_outputs)\n",
    "        self.__sigmoid = torch.nn.Sigmoid()\n",
    "        \n",
    "    def forward(self,x):\n",
    "        return self.sigmoid(self.clf(x.float()))\n",
    "    \n",
    "    @property\n",
    "    def clf(self):\n",
    "        return self.__clf\n",
    "    \n",
    "    @property\n",
    "    def sigmoid(self):\n",
    "        return self.__sigmoid"
   ]
  },
  {
   "cell_type": "code",
   "execution_count": 25,
   "id": "d7256e1e-ed1f-4b85-9f9d-11facc7af4c4",
   "metadata": {},
   "outputs": [],
   "source": [
    "X_train = torch.tensor(X_train[:,0:-1])\n",
    "y_train = torch.tensor(y_train)"
   ]
  },
  {
   "cell_type": "code",
   "execution_count": 26,
   "id": "44a8ca20-03c0-47a7-a610-a7f9922478f2",
   "metadata": {},
   "outputs": [],
   "source": [
    "\n",
    "torch_model = Classifier(regression_params['n_features'],regression_params['n_classes'])\n",
    "\n",
    "criterion = torch.nn.NLLLoss()\n",
    "optimizer = torch.optim.SGD(torch_model.parameters(),lr=0.01)\n",
    "\n",
    "\n",
    "# training loop \n",
    "for epoch in range(epochs):\n",
    "    y_pred = torch_model(X_train)\n",
    "    loss = criterion(y_pred,y_train.flatten().long())\n",
    "    optimizer.zero_grad()\n",
    "    loss.backward()\n",
    "    optimizer.step()"
   ]
  },
  {
   "cell_type": "code",
   "execution_count": 27,
   "id": "e103dd08-5e74-437f-a600-e511268cb88f",
   "metadata": {},
   "outputs": [
    {
     "data": {
      "text/plain": [
       "Parameter containing:\n",
       "tensor([[-0.6348,  1.0120,  0.8013, -0.0873, -0.0165],\n",
       "        [-0.3554, -0.0453,  0.4924,  0.0785, -0.0525],\n",
       "        [ 0.4145,  0.0818, -0.6722,  0.0043,  0.0438],\n",
       "        [ 1.1969,  0.9229,  0.7268, -0.0063,  0.1360]], requires_grad=True)"
      ]
     },
     "execution_count": 27,
     "metadata": {},
     "output_type": "execute_result"
    }
   ],
   "source": [
    "torch_model.clf.weight"
   ]
  },
  {
   "cell_type": "code",
   "execution_count": 28,
   "id": "1b092afb-ad8b-4510-b20a-b7d777b7f9ea",
   "metadata": {},
   "outputs": [
    {
     "data": {
      "text/plain": [
       "Parameter containing:\n",
       "tensor([5.1848, 5.2895, 5.3621, 5.0276], requires_grad=True)"
      ]
     },
     "execution_count": 28,
     "metadata": {},
     "output_type": "execute_result"
    }
   ],
   "source": [
    "torch_model.clf.bias"
   ]
  },
  {
   "cell_type": "code",
   "execution_count": 29,
   "id": "1c7ecc44-e503-4bc5-bbef-0f8b3f69cd9a",
   "metadata": {},
   "outputs": [
    {
     "data": {
      "text/plain": [
       "0.364"
      ]
     },
     "execution_count": 29,
     "metadata": {},
     "output_type": "execute_result"
    }
   ],
   "source": [
    "(np.argmax(torch_model(torch.tensor(X_test[:,0:-1])).detach().numpy(),axis=1) == y_test).mean()"
   ]
  },
  {
   "cell_type": "code",
   "execution_count": 30,
   "id": "8fa12d8e-2017-423a-a522-071bc11b6a19",
   "metadata": {},
   "outputs": [
    {
     "data": {
      "text/plain": [
       "0.6355223286560547"
      ]
     },
     "execution_count": 30,
     "metadata": {},
     "output_type": "execute_result"
    }
   ],
   "source": [
    "roc_auc_score(y_test,(torch_model(torch.tensor(X_test[:,0:-1])).detach().numpy() / torch_model(torch.tensor(X_test[:,0:-1])).detach().numpy().sum(axis=1).reshape(-1,1)),multi_class='ovr')"
   ]
  },
  {
   "cell_type": "code",
   "execution_count": null,
   "id": "6cad9930-dbbf-430d-8fc6-a1bf3290732a",
   "metadata": {},
   "outputs": [],
   "source": []
  }
 ],
 "metadata": {
  "kernelspec": {
   "display_name": "Python 3",
   "language": "python",
   "name": "python3"
  },
  "language_info": {
   "codemirror_mode": {
    "name": "ipython",
    "version": 3
   },
   "file_extension": ".py",
   "mimetype": "text/x-python",
   "name": "python",
   "nbconvert_exporter": "python",
   "pygments_lexer": "ipython3",
   "version": "3.7.9"
  }
 },
 "nbformat": 4,
 "nbformat_minor": 5
}
