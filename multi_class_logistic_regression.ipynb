{
 "cells": [
  {
   "cell_type": "code",
   "execution_count": 1,
   "id": "ca46354d-1e58-4ca8-87e1-1b233f34273d",
   "metadata": {},
   "outputs": [],
   "source": [
    "# library imports \n",
    "\n",
    "from sklearn.model_selection import train_test_split\n",
    "from sklearn.metrics import roc_auc_score, log_loss\n",
    "import numpy as np"
   ]
  },
  {
   "cell_type": "code",
   "execution_count": 2,
   "id": "c9753d81-a733-45d7-82d2-a329028cd119",
   "metadata": {},
   "outputs": [],
   "source": [
    "# regression data\n",
    "import random\n",
    "from sklearn.datasets import make_classification\n",
    "\n",
    "# rng\n",
    "random.seed(0)\n",
    "\n",
    "regression_params = {\n",
    "     'n_samples':1000\n",
    "    ,'n_features':5\n",
    "    ,'n_informative':3\n",
    "    ,'n_redundant':0\n",
    "    ,'n_repeated':0\n",
    "    ,'n_classes' : 4\n",
    "    ,'n_clusters_per_class':1\n",
    "    ,'random_state':0\n",
    "    ,'class_sep' : .2\n",
    "}\n",
    "\n",
    "X,y = make_classification(**regression_params)\n",
    "\n",
    "# add constant\n",
    "X = np.concatenate([X,np.ones(shape=(len(X),1))],axis=1)\n",
    "\n",
    "# train / test splits\n",
    "X_train,X_test,y_train,y_test = train_test_split(X,y)"
   ]
  },
  {
   "cell_type": "markdown",
   "id": "bff8bbe1-9e44-45b4-93b9-532881b536cb",
   "metadata": {},
   "source": [
    "# statsmodels"
   ]
  },
  {
   "cell_type": "code",
   "execution_count": 3,
   "id": "0fdc1260-bbcf-463b-83c2-5a0c882fb8e1",
   "metadata": {},
   "outputs": [],
   "source": [
    "import statsmodels.api as sm"
   ]
  },
  {
   "cell_type": "code",
   "execution_count": 4,
   "id": "05eba825-2f9f-487e-86a4-b2dac6389eb1",
   "metadata": {},
   "outputs": [],
   "source": [
    "sm_model = sm.MNLogit(endog=y_train,exog=X_train)"
   ]
  },
  {
   "cell_type": "code",
   "execution_count": 5,
   "id": "6169c1a0-6312-4077-8ea1-c2e321cb61b8",
   "metadata": {},
   "outputs": [
    {
     "name": "stdout",
     "output_type": "stream",
     "text": [
      "Optimization terminated successfully    (Exit mode 0)\n",
      "            Current function value: 1.2979110352548542\n",
      "            Iterations: 41\n",
      "            Function evaluations: 42\n",
      "            Gradient evaluations: 41\n"
     ]
    }
   ],
   "source": [
    "result = sm_model.fit_regularized(maxiter=1000)"
   ]
  },
  {
   "cell_type": "code",
   "execution_count": 6,
   "id": "5b66605f-2e26-42df-8458-270c8d6b177f",
   "metadata": {},
   "outputs": [
    {
     "name": "stdout",
     "output_type": "stream",
     "text": [
      "                          MNLogit Regression Results                          \n",
      "==============================================================================\n",
      "Dep. Variable:                      y   No. Observations:                  750\n",
      "Model:                        MNLogit   Df Residuals:                      732\n",
      "Method:                           MLE   Df Model:                           15\n",
      "Date:                Mon, 12 Jul 2021   Pseudo R-squ.:                 0.06350\n",
      "Time:                        23:42:28   Log-Likelihood:                -973.43\n",
      "converged:                       True   LL-Null:                       -1039.4\n",
      "Covariance Type:            nonrobust   LLR p-value:                 8.549e-21\n",
      "==============================================================================\n",
      "       y=1       coef    std err          z      P>|z|      [0.025      0.975]\n",
      "------------------------------------------------------------------------------\n",
      "x1            -0.0736      0.118     -0.623      0.534      -0.305       0.158\n",
      "x2            -0.6398      0.119     -5.377      0.000      -0.873      -0.407\n",
      "x3             0.0038      0.165      0.023      0.982      -0.319       0.327\n",
      "x4             0.2236      0.106      2.107      0.035       0.016       0.432\n",
      "x5            -0.1510      0.107     -1.404      0.160      -0.362       0.060\n",
      "const          0.0926      0.115      0.807      0.420      -0.132       0.317\n",
      "------------------------------------------------------------------------------\n",
      "       y=2       coef    std err          z      P>|z|      [0.025      0.975]\n",
      "------------------------------------------------------------------------------\n",
      "x1             0.4942      0.121      4.088      0.000       0.257       0.731\n",
      "x2            -0.6349      0.119     -5.322      0.000      -0.869      -0.401\n",
      "x3            -0.8285      0.174     -4.762      0.000      -1.169      -0.488\n",
      "x4             0.2105      0.108      1.946      0.052      -0.001       0.422\n",
      "x5            -0.1170      0.111     -1.054      0.292      -0.335       0.101\n",
      "const          0.0852      0.114      0.747      0.455      -0.138       0.309\n",
      "------------------------------------------------------------------------------\n",
      "       y=3       coef    std err          z      P>|z|      [0.025      0.975]\n",
      "------------------------------------------------------------------------------\n",
      "x1             0.3045      0.118      2.576      0.010       0.073       0.536\n",
      "x2            -0.1146      0.113     -1.016      0.309      -0.336       0.106\n",
      "x3             0.1640      0.165      0.992      0.321      -0.160       0.488\n",
      "x4             0.1989      0.104      1.912      0.056      -0.005       0.403\n",
      "x5             0.0314      0.107      0.292      0.770      -0.179       0.242\n",
      "const          0.0179      0.117      0.153      0.879      -0.211       0.247\n",
      "==============================================================================\n"
     ]
    }
   ],
   "source": [
    "print(result.summary())"
   ]
  },
  {
   "cell_type": "code",
   "execution_count": 8,
   "id": "67c89f5e-774d-4382-a666-5b60d8b32ce9",
   "metadata": {},
   "outputs": [
    {
     "data": {
      "text/plain": [
       "0.249168"
      ]
     },
     "execution_count": 8,
     "metadata": {},
     "output_type": "execute_result"
    }
   ],
   "source": [
    "# accuracy\n",
    "(np.argmax(result.predict(X_test),axis=1)== y_test).mean()"
   ]
  },
  {
   "cell_type": "code",
   "execution_count": 8,
   "id": "eac53384-6f90-4b8a-80e9-f6d69e915195",
   "metadata": {},
   "outputs": [
    {
     "data": {
      "text/plain": [
       "0.6342416954959569"
      ]
     },
     "execution_count": 8,
     "metadata": {},
     "output_type": "execute_result"
    }
   ],
   "source": [
    "# roc auc\n",
    "roc_auc_score(y_test,result.predict(X_test),multi_class='ovr')"
   ]
  },
  {
   "cell_type": "markdown",
   "id": "99a478fa-547a-4e4b-8e2f-7ac3dea20889",
   "metadata": {},
   "source": [
    "# sklearn"
   ]
  },
  {
   "cell_type": "code",
   "execution_count": 9,
   "id": "eb442187-a39d-4eb6-ad92-63b641c85521",
   "metadata": {},
   "outputs": [],
   "source": [
    "from sklearn.linear_model import LogisticRegression"
   ]
  },
  {
   "cell_type": "code",
   "execution_count": 10,
   "id": "621495e0-7627-4531-bef5-1431e0d23001",
   "metadata": {},
   "outputs": [],
   "source": [
    "sk_model = LogisticRegression(multi_class='ovr')"
   ]
  },
  {
   "cell_type": "code",
   "execution_count": 11,
   "id": "b516fef1-9c1f-435f-a616-2e07e4bdbecb",
   "metadata": {},
   "outputs": [],
   "source": [
    "sk_model = sk_model.fit(X_train[:,0:-1],y_train)"
   ]
  },
  {
   "cell_type": "code",
   "execution_count": 12,
   "id": "385a17b6-cd92-4af2-8a14-438684bee0e0",
   "metadata": {},
   "outputs": [
    {
     "data": {
      "text/plain": [
       "array([[-0.24273733,  0.49877012,  0.14298191, -0.05762091, -0.01488683],\n",
       "       [-0.44486711, -0.33088683,  0.29485706,  0.1011516 , -0.11013981],\n",
       "       [ 0.47264283, -0.42620622, -0.90189888,  0.02458309,  0.04647151],\n",
       "       [ 0.18386022,  0.29208942,  0.50020298, -0.06325093,  0.0862855 ]])"
      ]
     },
     "execution_count": 12,
     "metadata": {},
     "output_type": "execute_result"
    }
   ],
   "source": [
    "sk_model.coef_"
   ]
  },
  {
   "cell_type": "code",
   "execution_count": 13,
   "id": "ee3ab30c-83e8-475f-b3c0-8de471e3fca3",
   "metadata": {},
   "outputs": [
    {
     "data": {
      "text/plain": [
       "array([-1.28722084, -1.18702092, -1.08529674, -1.18713244])"
      ]
     },
     "execution_count": 13,
     "metadata": {},
     "output_type": "execute_result"
    }
   ],
   "source": [
    "sk_model.intercept_"
   ]
  },
  {
   "cell_type": "code",
   "execution_count": 14,
   "id": "c3f87527-1bba-4596-9329-4b76c789cb7a",
   "metadata": {},
   "outputs": [
    {
     "data": {
      "text/plain": [
       "0.332"
      ]
     },
     "execution_count": 14,
     "metadata": {},
     "output_type": "execute_result"
    }
   ],
   "source": [
    "# accuracy\n",
    "(sk_model.predict(X_test[:,0:-1]) == y_test).mean()"
   ]
  },
  {
   "cell_type": "code",
   "execution_count": 15,
   "id": "9c9db1e6-38e9-4b7c-ab61-40f33315f124",
   "metadata": {},
   "outputs": [
    {
     "data": {
      "text/plain": [
       "0.6336440287789685"
      ]
     },
     "execution_count": 15,
     "metadata": {},
     "output_type": "execute_result"
    }
   ],
   "source": [
    "# roc auc\n",
    "roc_auc_score(y_test,sk_model.predict_proba(X_test[:,0:-1]),multi_class='ovr')"
   ]
  },
  {
   "cell_type": "markdown",
   "id": "4b65d169-7e36-4ad9-a576-1ba12e590ea6",
   "metadata": {},
   "source": [
    "# pure python"
   ]
  },
  {
   "cell_type": "code",
   "execution_count": 16,
   "id": "a3eb5978-8e01-4a22-8895-e7942dc5ecdf",
   "metadata": {},
   "outputs": [],
   "source": [
    "# turn back into numpy arrays\n",
    "\n",
    "X_train = X_train\n",
    "y_train = y_train.reshape(-1,1)"
   ]
  },
  {
   "cell_type": "code",
   "execution_count": 17,
   "id": "0b15ba15-9cb1-45d7-a524-abc31a070f05",
   "metadata": {},
   "outputs": [],
   "source": [
    "# functions\n",
    "\n",
    "def sigmoid(x):\n",
    "    return 1/(1+np.exp(-x))\n",
    "\n",
    "def predict(x,beta):\n",
    "    return sigmoid(np.dot(x,beta))\n",
    "\n",
    "def gradient_step(beta,grad,step_size=0.01):\n",
    "    return beta - step_size*grad\n",
    "\n",
    "def gradient(x,beta,y_true):\n",
    "    y_pred = predict(x,beta)\n",
    "    \n",
    "    return np.dot(np.transpose(x),(y_pred-y_true))/len(x)"
   ]
  },
  {
   "cell_type": "code",
   "execution_count": 18,
   "id": "003b4444-0eb5-4299-99ad-127694c95672",
   "metadata": {},
   "outputs": [
    {
     "data": {
      "text/plain": [
       "array([[0.84442185, 0.78379859, 0.28183784, 0.81021724],\n",
       "       [0.7579544 , 0.30331273, 0.7558042 , 0.90216595],\n",
       "       [0.42057158, 0.47659695, 0.618369  , 0.31014757],\n",
       "       [0.25891675, 0.58338204, 0.25050634, 0.72983175],\n",
       "       [0.51127472, 0.90811289, 0.90974626, 0.89883829],\n",
       "       [0.40493414, 0.50468686, 0.98278548, 0.68398393]])"
      ]
     },
     "execution_count": 18,
     "metadata": {},
     "output_type": "execute_result"
    }
   ],
   "source": [
    "betas = np.zeros(shape=(regression_params['n_features']+1,regression_params['n_classes']))\n",
    "for _class in np.unique(y):\n",
    "    betas[:,_class] = [random.random() for _ in range(len(betas))]\n",
    "betas"
   ]
  },
  {
   "cell_type": "code",
   "execution_count": 19,
   "id": "4cb2259a-ba58-4e74-ba32-9984952ef0ae",
   "metadata": {},
   "outputs": [],
   "source": [
    "epochs = 100000\n",
    "for _class in np.unique(y):\n",
    "    beta = betas[:,_class].reshape(-1,1)\n",
    "    for epoch in range(epochs):\n",
    "        grad = gradient(x=X_train,beta=beta,y_true=(y_train==_class).astype('int'))\n",
    "        beta = gradient_step(beta=beta,grad=grad,step_size=0.1)\n",
    "    betas[:,_class] = beta.flat[:]"
   ]
  },
  {
   "cell_type": "code",
   "execution_count": 20,
   "id": "720bd5c8-69ed-4316-97a1-6ba51b852cf1",
   "metadata": {},
   "outputs": [
    {
     "data": {
      "text/plain": [
       "array([[-0.24626354, -0.44874129,  0.47884721,  0.18508572],\n",
       "       [ 0.50415341, -0.33289014, -0.43301242,  0.29571018],\n",
       "       [ 0.14740864,  0.29966882, -0.9211596 ,  0.50934533],\n",
       "       [-0.05815588,  0.10208814,  0.02501376, -0.06385692],\n",
       "       [-0.01488167, -0.11102331,  0.04645941,  0.0873864 ],\n",
       "       [-1.28919999, -1.18879233, -1.0875383 , -1.18955563]])"
      ]
     },
     "execution_count": 20,
     "metadata": {},
     "output_type": "execute_result"
    }
   ],
   "source": [
    "betas"
   ]
  },
  {
   "cell_type": "code",
   "execution_count": 21,
   "id": "30538d20-4341-4ed9-ac85-026e396ef959",
   "metadata": {},
   "outputs": [
    {
     "data": {
      "text/plain": [
       "0.332"
      ]
     },
     "execution_count": 21,
     "metadata": {},
     "output_type": "execute_result"
    }
   ],
   "source": [
    "# accuracy\n",
    "(np.argmax(predict(X_test,betas),axis=1) == y_test).mean()"
   ]
  },
  {
   "cell_type": "code",
   "execution_count": 22,
   "id": "fc5143e7-5171-4b25-bb41-d077775108a6",
   "metadata": {},
   "outputs": [
    {
     "data": {
      "text/plain": [
       "0.6338012319513205"
      ]
     },
     "execution_count": 22,
     "metadata": {},
     "output_type": "execute_result"
    }
   ],
   "source": [
    "# roc auc\n",
    "roc_auc_score(y_test,(predict(X_test,betas) /predict(X_test,betas).sum(axis=1).reshape(-1,1)),multi_class='ovr')"
   ]
  },
  {
   "cell_type": "markdown",
   "id": "4f429453-39f8-4e79-8bbe-d58c360c86b1",
   "metadata": {},
   "source": [
    "# pytorch"
   ]
  },
  {
   "cell_type": "code",
   "execution_count": 23,
   "id": "89c4a294-d924-4280-84ff-558fa37c5a3d",
   "metadata": {},
   "outputs": [],
   "source": [
    "import torch\n",
    "import torch.nn"
   ]
  },
  {
   "cell_type": "code",
   "execution_count": 91,
   "id": "0186ee27-dda4-4a45-9b14-66d8524b2d09",
   "metadata": {},
   "outputs": [],
   "source": [
    "class Classifier(torch.nn.Module):\n",
    "    def __init__(self,n_inputs,n_outputs):\n",
    "        super(Classifier,self).__init__()\n",
    "        self.__clf = torch.nn.Linear(n_inputs,n_outputs)\n",
    "        self.__sigmoid = torch.nn.Sigmoid()\n",
    "        \n",
    "    def forward(self,x):\n",
    "        return self.sigmoid(self.clf(x.float()))\n",
    "    \n",
    "    @property\n",
    "    def clf(self):\n",
    "        return self.__clf\n",
    "    \n",
    "    @property\n",
    "    def sigmoid(self):\n",
    "        return self.__sigmoid"
   ]
  },
  {
   "cell_type": "code",
   "execution_count": 25,
   "id": "d7256e1e-ed1f-4b85-9f9d-11facc7af4c4",
   "metadata": {},
   "outputs": [],
   "source": [
    "X_train = torch.tensor(X_train[:,0:-1])\n",
    "y_train = torch.tensor(y_train)"
   ]
  },
  {
   "cell_type": "code",
   "execution_count": 92,
   "id": "44a8ca20-03c0-47a7-a610-a7f9922478f2",
   "metadata": {},
   "outputs": [],
   "source": [
    "\n",
    "torch_model = Classifier(regression_params['n_features'],regression_params['n_classes'])\n",
    "\n",
    "criterion = torch.nn.NLLLoss()\n",
    "optimizer = torch.optim.SGD(torch_model.parameters(),lr=0.01)\n",
    "\n",
    "\n",
    "# training loop \n",
    "for epoch in range(epochs):\n",
    "    y_pred = torch_model(X_train)\n",
    "    loss = criterion(y_pred,y_train.flatten().long())\n",
    "    optimizer.zero_grad()\n",
    "    loss.backward()\n",
    "    optimizer.step()"
   ]
  },
  {
   "cell_type": "code",
   "execution_count": 93,
   "id": "e103dd08-5e74-437f-a600-e511268cb88f",
   "metadata": {},
   "outputs": [
    {
     "data": {
      "text/plain": [
       "Parameter containing:\n",
       "tensor([[-0.5484,  0.8844,  0.6768, -0.0490, -0.0575],\n",
       "        [-0.5946,  0.1113,  0.7362,  0.1349, -0.0635],\n",
       "        [ 0.4666,  0.1795, -0.9384,  0.0354, -0.0313],\n",
       "        [ 1.1347,  0.8827,  0.7538, -0.0802,  0.0055]], requires_grad=True)"
      ]
     },
     "execution_count": 93,
     "metadata": {},
     "output_type": "execute_result"
    }
   ],
   "source": [
    "torch_model.clf.weight"
   ]
  },
  {
   "cell_type": "code",
   "execution_count": 94,
   "id": "1b092afb-ad8b-4510-b20a-b7d777b7f9ea",
   "metadata": {},
   "outputs": [
    {
     "data": {
      "text/plain": [
       "Parameter containing:\n",
       "tensor([5.1242, 5.2960, 5.3538, 5.0804], requires_grad=True)"
      ]
     },
     "execution_count": 94,
     "metadata": {},
     "output_type": "execute_result"
    }
   ],
   "source": [
    "torch_model.clf.bias"
   ]
  },
  {
   "cell_type": "code",
   "execution_count": 95,
   "id": "1c7ecc44-e503-4bc5-bbef-0f8b3f69cd9a",
   "metadata": {},
   "outputs": [
    {
     "data": {
      "text/plain": [
       "0.324"
      ]
     },
     "execution_count": 95,
     "metadata": {},
     "output_type": "execute_result"
    }
   ],
   "source": [
    "(np.argmax(torch_model(torch.tensor(X_test[:,0:-1])).detach().numpy(),axis=1) == y_test).mean()"
   ]
  },
  {
   "cell_type": "code",
   "execution_count": 96,
   "id": "8fa12d8e-2017-423a-a522-071bc11b6a19",
   "metadata": {},
   "outputs": [
    {
     "data": {
      "text/plain": [
       "0.6500989680735798"
      ]
     },
     "execution_count": 96,
     "metadata": {},
     "output_type": "execute_result"
    }
   ],
   "source": [
    "roc_auc_score(y_test,(torch_model(torch.tensor(X_test[:,0:-1])).detach().numpy() / torch_model(torch.tensor(X_test[:,0:-1])).detach().numpy().sum(axis=1).reshape(-1,1)),multi_class='ovr')"
   ]
  },
  {
   "cell_type": "code",
   "execution_count": null,
   "id": "6cad9930-dbbf-430d-8fc6-a1bf3290732a",
   "metadata": {},
   "outputs": [],
   "source": []
  }
 ],
 "metadata": {
  "kernelspec": {
   "display_name": "Python 3",
   "language": "python",
   "name": "python3"
  },
  "language_info": {
   "codemirror_mode": {
    "name": "ipython",
    "version": 3
   },
   "file_extension": ".py",
   "mimetype": "text/x-python",
   "name": "python",
   "nbconvert_exporter": "python",
   "pygments_lexer": "ipython3",
   "version": "3.7.10"
  }
 },
 "nbformat": 4,
 "nbformat_minor": 5
}
