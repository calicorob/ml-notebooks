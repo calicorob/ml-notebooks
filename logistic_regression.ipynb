{
 "cells": [
  {
   "cell_type": "code",
   "execution_count": 1,
   "id": "7d11cea4-a558-4f83-9a0f-a6e8d16915f3",
   "metadata": {},
   "outputs": [],
   "source": [
    "# library imports \n",
    "\n",
    "from sklearn.model_selection import train_test_split\n",
    "from sklearn.metrics import roc_auc_score, log_loss\n",
    "import numpy as np"
   ]
  },
  {
   "cell_type": "code",
   "execution_count": 2,
   "id": "dfa448dd-7643-4c89-a7e2-9aacf232fc1c",
   "metadata": {},
   "outputs": [],
   "source": [
    "# regression data\n",
    "import random\n",
    "from sklearn.datasets import make_classification\n",
    "\n",
    "# rng\n",
    "random.seed(0)\n",
    "\n",
    "regression_params = {\n",
    "     'n_samples':1000\n",
    "    ,'n_features':5\n",
    "    ,'n_informative':3\n",
    "    ,'n_redundant':0\n",
    "    ,'n_repeated':0\n",
    "    ,'n_classes' : 2\n",
    "    ,'n_clusters_per_class':1\n",
    "    ,'random_state':0\n",
    "    ,'class_sep' : .7\n",
    "}\n",
    "\n",
    "X,y = make_classification(**regression_params)\n",
    "\n",
    "# add constant\n",
    "X = np.concatenate([X,np.ones(shape=(len(X),1))],axis=1)\n",
    "\n",
    "# train / test splits\n",
    "X_train,X_test,y_train,y_test = train_test_split(X,y)"
   ]
  },
  {
   "cell_type": "markdown",
   "id": "e77a7a51-412d-4004-977e-23a4587b87f0",
   "metadata": {},
   "source": [
    "# statsmodels"
   ]
  },
  {
   "cell_type": "code",
   "execution_count": 3,
   "id": "ce5862d2-bc12-41e5-9117-75e8a85b666c",
   "metadata": {},
   "outputs": [],
   "source": [
    "import statsmodels.api as sm"
   ]
  },
  {
   "cell_type": "code",
   "execution_count": 4,
   "id": "cdad8346-ee88-4f17-834e-3ce2178a9393",
   "metadata": {},
   "outputs": [],
   "source": [
    "sm_model = sm.Logit(endog=y_train,exog=X_train)"
   ]
  },
  {
   "cell_type": "code",
   "execution_count": 5,
   "id": "238d08fb-ce96-4e1b-88a1-ff3d535e0100",
   "metadata": {},
   "outputs": [
    {
     "name": "stdout",
     "output_type": "stream",
     "text": [
      "Optimization terminated successfully.\n",
      "         Current function value: 0.136023\n",
      "         Iterations 9\n"
     ]
    }
   ],
   "source": [
    "results = sm_model.fit(maxiter=10000)"
   ]
  },
  {
   "cell_type": "code",
   "execution_count": 6,
   "id": "0f3fd34b-a4df-4cfa-b46a-25cb3528d7fd",
   "metadata": {},
   "outputs": [
    {
     "name": "stdout",
     "output_type": "stream",
     "text": [
      "                           Logit Regression Results                           \n",
      "==============================================================================\n",
      "Dep. Variable:                      y   No. Observations:                  750\n",
      "Model:                          Logit   Df Residuals:                      744\n",
      "Method:                           MLE   Df Model:                            5\n",
      "Date:                Tue, 06 Jul 2021   Pseudo R-squ.:                  0.8038\n",
      "Time:                        00:19:23   Log-Likelihood:                -102.02\n",
      "converged:                       True   LL-Null:                       -519.84\n",
      "Covariance Type:            nonrobust   LLR p-value:                2.254e-178\n",
      "==============================================================================\n",
      "                 coef    std err          z      P>|z|      [0.025      0.975]\n",
      "------------------------------------------------------------------------------\n",
      "x1            -5.9049      0.594     -9.948      0.000      -7.068      -4.742\n",
      "x2             0.0429      0.196      0.218      0.827      -0.342       0.428\n",
      "x3            -7.5644      0.676    -11.185      0.000      -8.890      -6.239\n",
      "x4             0.0720      0.202      0.356      0.722      -0.324       0.468\n",
      "x5             5.1177      0.488     10.492      0.000       4.162       6.074\n",
      "const          6.0472      0.538     11.233      0.000       4.992       7.102\n",
      "==============================================================================\n",
      "\n",
      "Possibly complete quasi-separation: A fraction 0.16 of observations can be\n",
      "perfectly predicted. This might indicate that there is complete\n",
      "quasi-separation. In this case some parameters will not be identified.\n"
     ]
    }
   ],
   "source": [
    "print(results.summary())"
   ]
  },
  {
   "cell_type": "code",
   "execution_count": 7,
   "id": "b49a201a-b557-449c-a6a2-18f90c33a708",
   "metadata": {},
   "outputs": [
    {
     "data": {
      "text/plain": [
       "30.988019406777205"
      ]
     },
     "execution_count": 7,
     "metadata": {},
     "output_type": "execute_result"
    }
   ],
   "source": [
    "log_loss(y_test,results.predict(X_test),normalize=False)"
   ]
  },
  {
   "cell_type": "markdown",
   "id": "3c486c89-289f-434a-ae22-225aaf1ce795",
   "metadata": {},
   "source": [
    "# sklearn"
   ]
  },
  {
   "cell_type": "code",
   "execution_count": 8,
   "id": "04d6ed62-44c9-4c8b-a88b-4362de15a019",
   "metadata": {},
   "outputs": [],
   "source": [
    "from sklearn.linear_model import LogisticRegression"
   ]
  },
  {
   "cell_type": "code",
   "execution_count": 9,
   "id": "c83f7aea-ad87-4a62-84b2-bd8ae37f8924",
   "metadata": {},
   "outputs": [],
   "source": [
    "sk_model = LogisticRegression()"
   ]
  },
  {
   "cell_type": "code",
   "execution_count": 10,
   "id": "fcb10842-d077-430c-9546-d19827034b2c",
   "metadata": {},
   "outputs": [],
   "source": [
    "sk_model = sk_model.fit(X_train[:,0:-1],y_train)"
   ]
  },
  {
   "cell_type": "code",
   "execution_count": 11,
   "id": "b6969a18-11f6-4eae-90e4-a4812e7e552d",
   "metadata": {},
   "outputs": [
    {
     "data": {
      "text/plain": [
       "array([[-3.7297326 ,  0.06227502, -5.05295708,  0.03704701,  3.33401777]])"
      ]
     },
     "execution_count": 11,
     "metadata": {},
     "output_type": "execute_result"
    }
   ],
   "source": [
    "sk_model.coef_"
   ]
  },
  {
   "cell_type": "code",
   "execution_count": 12,
   "id": "abd8685d-d26e-4e4f-94c1-07a3f94a310a",
   "metadata": {},
   "outputs": [
    {
     "data": {
      "text/plain": [
       "array([4.12888085])"
      ]
     },
     "execution_count": 12,
     "metadata": {},
     "output_type": "execute_result"
    }
   ],
   "source": [
    "sk_model.intercept_"
   ]
  },
  {
   "cell_type": "code",
   "execution_count": 13,
   "id": "2003eca0-50a0-4e85-b1b7-104e81932b6f",
   "metadata": {},
   "outputs": [
    {
     "data": {
      "text/plain": [
       "35.37877426988723"
      ]
     },
     "execution_count": 13,
     "metadata": {},
     "output_type": "execute_result"
    }
   ],
   "source": [
    "log_loss(y_test,sk_model.predict_proba(X_test[:,0:-1])[:,1],normalize=False)"
   ]
  },
  {
   "cell_type": "markdown",
   "id": "bfaa06a2-d63e-4846-b4e2-8358ea2c20ab",
   "metadata": {},
   "source": [
    "# pure python"
   ]
  },
  {
   "cell_type": "code",
   "execution_count": 15,
   "id": "3a76445c-aa13-459f-90a0-aedada92c537",
   "metadata": {},
   "outputs": [],
   "source": [
    "# turn back into numpy arrays\n",
    "\n",
    "X_train = X_train\n",
    "y_train = y_train.reshape(-1,1)"
   ]
  },
  {
   "cell_type": "code",
   "execution_count": 16,
   "id": "9111ac35-dbb5-453b-9dad-2863ae1342cd",
   "metadata": {},
   "outputs": [],
   "source": [
    "# functions\n",
    "\n",
    "def sigmoid(x):\n",
    "    return 1 / (1+np.exp(-x))\n",
    "\n",
    "def predict(x,beta):\n",
    "    assert x.shape[-1] == beta.shape[0]\n",
    "    return sigmoid(np.dot(x,beta))\n",
    "\n",
    "def gradient_step(beta,grad,step_size=0.01):\n",
    "    return beta - step_size*grad\n",
    "\n",
    "def gradient(x,beta,y_true):\n",
    "    y_pred = predict(x,beta)\n",
    "    \n",
    "    return np.dot(np.transpose(x),(y_pred-y_true))/len(x)"
   ]
  },
  {
   "cell_type": "code",
   "execution_count": 23,
   "id": "d95e3121-21c4-4706-b7f9-e1bf2741265c",
   "metadata": {},
   "outputs": [
    {
     "data": {
      "text/plain": [
       "array([[-5.90482279],\n",
       "       [ 0.04287568],\n",
       "       [-7.56436576],\n",
       "       [ 0.07196776],\n",
       "       [ 5.11770353],\n",
       "       [ 6.04713554]])"
      ]
     },
     "execution_count": 23,
     "metadata": {},
     "output_type": "execute_result"
    }
   ],
   "source": [
    "# initial parameters \n",
    "beta = np.array([random.random() for _ in range(regression_params['n_features']+1)]).reshape(-1,1)\n",
    "epochs = 100000\n",
    "for epoch in range(epochs):\n",
    "    grad = gradient(x=X_train,beta=beta,y_true=y_train)\n",
    "    beta = gradient_step(beta=beta,grad=grad,step_size=0.1)\n",
    "beta"
   ]
  },
  {
   "cell_type": "code",
   "execution_count": 24,
   "id": "5b408f07-7fba-443a-ac32-1efe9af363de",
   "metadata": {},
   "outputs": [
    {
     "data": {
      "text/plain": [
       "30.988029580241474"
      ]
     },
     "execution_count": 24,
     "metadata": {},
     "output_type": "execute_result"
    }
   ],
   "source": [
    "log_loss(y_test,predict(X_test,beta),normalize=False)"
   ]
  },
  {
   "cell_type": "code",
   "execution_count": null,
   "id": "bceda839-7ab9-48fb-bc18-3643f002f9e2",
   "metadata": {},
   "outputs": [],
   "source": []
  }
 ],
 "metadata": {
  "kernelspec": {
   "display_name": "Python 3",
   "language": "python",
   "name": "python3"
  },
  "language_info": {
   "codemirror_mode": {
    "name": "ipython",
    "version": 3
   },
   "file_extension": ".py",
   "mimetype": "text/x-python",
   "name": "python",
   "nbconvert_exporter": "python",
   "pygments_lexer": "ipython3",
   "version": "3.7.10"
  }
 },
 "nbformat": 4,
 "nbformat_minor": 5
}
