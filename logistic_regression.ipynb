{
 "cells": [
  {
   "cell_type": "code",
   "execution_count": 1,
   "id": "7d11cea4-a558-4f83-9a0f-a6e8d16915f3",
   "metadata": {},
   "outputs": [],
   "source": [
    "# library imports \n",
    "\n",
    "from sklearn.model_selection import train_test_split\n",
    "from sklearn.metrics import roc_auc_score, log_loss\n",
    "import numpy as np"
   ]
  },
  {
   "cell_type": "code",
   "execution_count": 2,
   "id": "dfa448dd-7643-4c89-a7e2-9aacf232fc1c",
   "metadata": {},
   "outputs": [],
   "source": [
    "# regression data\n",
    "import random\n",
    "from sklearn.datasets import make_classification\n",
    "\n",
    "# rng\n",
    "random.seed(0)\n",
    "\n",
    "regression_params = {\n",
    "     'n_samples':1000\n",
    "    ,'n_features':5\n",
    "    ,'n_informative':3\n",
    "    ,'n_redundant':0\n",
    "    ,'n_repeated':0\n",
    "    ,'n_classes' : 2\n",
    "    ,'n_clusters_per_class':1\n",
    "    ,'random_state':0\n",
    "    ,'class_sep' : .7\n",
    "}\n",
    "\n",
    "X,y = make_classification(**regression_params)\n",
    "\n",
    "# add constant\n",
    "X = np.concatenate([X,np.ones(shape=(len(X),1))],axis=1)\n",
    "\n",
    "# train / test splits\n",
    "X_train,X_test,y_train,y_test = train_test_split(X,y)"
   ]
  },
  {
   "cell_type": "markdown",
   "id": "e77a7a51-412d-4004-977e-23a4587b87f0",
   "metadata": {},
   "source": [
    "# statsmodels"
   ]
  },
  {
   "cell_type": "code",
   "execution_count": 3,
   "id": "ce5862d2-bc12-41e5-9117-75e8a85b666c",
   "metadata": {},
   "outputs": [],
   "source": [
    "import statsmodels.api as sm"
   ]
  },
  {
   "cell_type": "code",
   "execution_count": 4,
   "id": "cdad8346-ee88-4f17-834e-3ce2178a9393",
   "metadata": {},
   "outputs": [],
   "source": [
    "sm_model = sm.Logit(endog=y_train,exog=X_train)"
   ]
  },
  {
   "cell_type": "code",
   "execution_count": 5,
   "id": "238d08fb-ce96-4e1b-88a1-ff3d535e0100",
   "metadata": {},
   "outputs": [
    {
     "name": "stdout",
     "output_type": "stream",
     "text": [
      "Optimization terminated successfully    (Exit mode 0)\n",
      "            Current function value: 0.14009426893867571\n",
      "            Iterations: 41\n",
      "            Function evaluations: 41\n",
      "            Gradient evaluations: 41\n"
     ]
    }
   ],
   "source": [
    "results = sm_model.fit_regularized(maxiter=10000)"
   ]
  },
  {
   "cell_type": "code",
   "execution_count": 6,
   "id": "0f3fd34b-a4df-4cfa-b46a-25cb3528d7fd",
   "metadata": {},
   "outputs": [
    {
     "name": "stdout",
     "output_type": "stream",
     "text": [
      "                           Logit Regression Results                           \n",
      "==============================================================================\n",
      "Dep. Variable:                      y   No. Observations:                  750\n",
      "Model:                          Logit   Df Residuals:                      744\n",
      "Method:                           MLE   Df Model:                            5\n",
      "Date:                Sat, 28 Jan 2023   Pseudo R-squ.:                  0.7979\n",
      "Time:                        13:03:50   Log-Likelihood:                -105.07\n",
      "converged:                       True   LL-Null:                       -519.82\n",
      "Covariance Type:            nonrobust   LLR p-value:                4.811e-177\n",
      "==============================================================================\n",
      "                 coef    std err          z      P>|z|      [0.025      0.975]\n",
      "------------------------------------------------------------------------------\n",
      "x1            -5.7761      0.574    -10.055      0.000      -6.902      -4.650\n",
      "x2             0.0247      0.190      0.130      0.897      -0.349       0.398\n",
      "x3            -7.7236      0.691    -11.178      0.000      -9.078      -6.369\n",
      "x4             0.0488      0.192      0.255      0.799      -0.327       0.424\n",
      "x5             5.1808      0.492     10.520      0.000       4.216       6.146\n",
      "const          5.9437      0.526     11.305      0.000       4.913       6.974\n",
      "==============================================================================\n",
      "\n",
      "Possibly complete quasi-separation: A fraction 0.17 of observations can be\n",
      "perfectly predicted. This might indicate that there is complete\n",
      "quasi-separation. In this case some parameters will not be identified.\n"
     ]
    }
   ],
   "source": [
    "print(results.summary())"
   ]
  },
  {
   "cell_type": "code",
   "execution_count": 7,
   "id": "b49a201a-b557-449c-a6a2-18f90c33a708",
   "metadata": {},
   "outputs": [
    {
     "data": {
      "text/plain": [
       "27.4905309020301"
      ]
     },
     "execution_count": 7,
     "metadata": {},
     "output_type": "execute_result"
    }
   ],
   "source": [
    "log_loss(y_test,results.predict(X_test),normalize=False)"
   ]
  },
  {
   "cell_type": "code",
   "execution_count": 8,
   "id": "632f14de-ddc0-41ba-8769-5ec72bbfaaa7",
   "metadata": {},
   "outputs": [
    {
     "data": {
      "text/plain": [
       "0.9866803278688525"
      ]
     },
     "execution_count": 8,
     "metadata": {},
     "output_type": "execute_result"
    }
   ],
   "source": [
    "roc_auc_score(y_test,results.predict(X_test))"
   ]
  },
  {
   "cell_type": "markdown",
   "id": "3c486c89-289f-434a-ae22-225aaf1ce795",
   "metadata": {},
   "source": [
    "# sklearn"
   ]
  },
  {
   "cell_type": "code",
   "execution_count": 9,
   "id": "04d6ed62-44c9-4c8b-a88b-4362de15a019",
   "metadata": {},
   "outputs": [],
   "source": [
    "from sklearn.linear_model import LogisticRegression"
   ]
  },
  {
   "cell_type": "code",
   "execution_count": 10,
   "id": "c83f7aea-ad87-4a62-84b2-bd8ae37f8924",
   "metadata": {},
   "outputs": [],
   "source": [
    "sk_model = LogisticRegression(C=1e9)"
   ]
  },
  {
   "cell_type": "code",
   "execution_count": 11,
   "id": "fcb10842-d077-430c-9546-d19827034b2c",
   "metadata": {},
   "outputs": [],
   "source": [
    "sk_model = sk_model.fit(X_train[:,0:-1],y_train)"
   ]
  },
  {
   "cell_type": "code",
   "execution_count": 12,
   "id": "b6969a18-11f6-4eae-90e4-a4812e7e552d",
   "metadata": {},
   "outputs": [
    {
     "data": {
      "text/plain": [
       "array([[-5.77607452,  0.02470264, -7.72351765,  0.04881045,  5.1807721 ]])"
      ]
     },
     "execution_count": 12,
     "metadata": {},
     "output_type": "execute_result"
    }
   ],
   "source": [
    "sk_model.coef_"
   ]
  },
  {
   "cell_type": "code",
   "execution_count": 13,
   "id": "abd8685d-d26e-4e4f-94c1-07a3f94a310a",
   "metadata": {},
   "outputs": [
    {
     "data": {
      "text/plain": [
       "array([5.94364052])"
      ]
     },
     "execution_count": 13,
     "metadata": {},
     "output_type": "execute_result"
    }
   ],
   "source": [
    "sk_model.intercept_"
   ]
  },
  {
   "cell_type": "code",
   "execution_count": 14,
   "id": "2003eca0-50a0-4e85-b1b7-104e81932b6f",
   "metadata": {},
   "outputs": [
    {
     "data": {
      "text/plain": [
       "27.49055168355615"
      ]
     },
     "execution_count": 14,
     "metadata": {},
     "output_type": "execute_result"
    }
   ],
   "source": [
    "log_loss(y_test,sk_model.predict_proba(X_test[:,0:-1])[:,1],normalize=False)"
   ]
  },
  {
   "cell_type": "code",
   "execution_count": 15,
   "id": "8843b39b-3008-488b-9f0b-19900ae518c2",
   "metadata": {},
   "outputs": [
    {
     "data": {
      "text/plain": [
       "0.9866803278688525"
      ]
     },
     "execution_count": 15,
     "metadata": {},
     "output_type": "execute_result"
    }
   ],
   "source": [
    "roc_auc_score(y_test,sk_model.predict_proba(X_test[:,0:-1])[:,1])"
   ]
  },
  {
   "cell_type": "markdown",
   "id": "bfaa06a2-d63e-4846-b4e2-8358ea2c20ab",
   "metadata": {},
   "source": [
    "# pure python"
   ]
  },
  {
   "cell_type": "code",
   "execution_count": 16,
   "id": "3a76445c-aa13-459f-90a0-aedada92c537",
   "metadata": {},
   "outputs": [],
   "source": [
    "# turn back into numpy arrays\n",
    "\n",
    "X_train = X_train\n",
    "y_train = y_train.reshape(-1,1)"
   ]
  },
  {
   "cell_type": "code",
   "execution_count": 17,
   "id": "9111ac35-dbb5-453b-9dad-2863ae1342cd",
   "metadata": {},
   "outputs": [],
   "source": [
    "# functions\n",
    "\n",
    "def sigmoid(x):\n",
    "    if isinstance(x,np.ndarray):\n",
    "        return 1/(1+np.exp(-x))\n",
    "    elif isinstance(x,torch.Tensor):\n",
    "        return 1/(1+torch.exp(-x))\n",
    "    else:\n",
    "        raise NotImplementedError(\"Invalid type.\")\n",
    "\n",
    "def predict(x,beta):\n",
    "    assert x.shape[-1] == beta.shape[0]\n",
    "    return sigmoid(np.dot(x,beta))\n",
    "\n",
    "def gradient_step(beta,grad,step_size=0.01):\n",
    "    return beta - step_size*grad\n",
    "\n",
    "def gradient(x,beta,y_true):\n",
    "    y_pred = predict(x,beta)\n",
    "    \n",
    "    return np.dot(np.transpose(x),(y_pred-y_true))/len(x)"
   ]
  },
  {
   "cell_type": "code",
   "execution_count": 18,
   "id": "d95e3121-21c4-4706-b7f9-e1bf2741265c",
   "metadata": {},
   "outputs": [
    {
     "data": {
      "text/plain": [
       "array([[-5.77601708],\n",
       "       [ 0.0247123 ],\n",
       "       [-7.72345363],\n",
       "       [ 0.04882082],\n",
       "       [ 5.1807325 ],\n",
       "       [ 5.94360082]])"
      ]
     },
     "execution_count": 18,
     "metadata": {},
     "output_type": "execute_result"
    }
   ],
   "source": [
    "# initial parameters \n",
    "beta = np.array([random.random() for _ in range(regression_params['n_features']+1)]).reshape(-1,1)\n",
    "epochs = 100000\n",
    "for epoch in range(epochs):\n",
    "    grad = gradient(x=X_train,beta=beta,y_true=y_train)\n",
    "    beta = gradient_step(beta=beta,grad=grad,step_size=0.1)\n",
    "beta"
   ]
  },
  {
   "cell_type": "code",
   "execution_count": 19,
   "id": "5b408f07-7fba-443a-ac32-1efe9af363de",
   "metadata": {},
   "outputs": [
    {
     "data": {
      "text/plain": [
       "27.49056043808065"
      ]
     },
     "execution_count": 19,
     "metadata": {},
     "output_type": "execute_result"
    }
   ],
   "source": [
    "log_loss(y_test,predict(X_test,beta),normalize=False)"
   ]
  },
  {
   "cell_type": "code",
   "execution_count": 20,
   "id": "bceda839-7ab9-48fb-bc18-3643f002f9e2",
   "metadata": {},
   "outputs": [
    {
     "data": {
      "text/plain": [
       "0.9866803278688525"
      ]
     },
     "execution_count": 20,
     "metadata": {},
     "output_type": "execute_result"
    }
   ],
   "source": [
    "roc_auc_score(y_test,predict(X_test,beta))"
   ]
  },
  {
   "cell_type": "markdown",
   "id": "1279eaf8-f409-4135-b0cf-7285f1a9351d",
   "metadata": {},
   "source": [
    "# pytorch"
   ]
  },
  {
   "cell_type": "code",
   "execution_count": 21,
   "id": "237b66f3-b865-4cef-a161-0ba506bca1e2",
   "metadata": {},
   "outputs": [],
   "source": [
    "import torch.nn\n",
    "import torch\n",
    "from torch.optim import SGD"
   ]
  },
  {
   "cell_type": "code",
   "execution_count": 22,
   "id": "fcb1f3b3-bbc4-4ad2-a0a2-7cec7d43c82c",
   "metadata": {},
   "outputs": [],
   "source": [
    "class Logistic(torch.nn.Module):\n",
    "    def __init__(self,n_features):\n",
    "        super(Logistic,self).__init__()\n",
    "        \n",
    "        # (n_features,1) shape tensor\n",
    "        self.__beta = torch.nn.Parameter(torch.rand(n_features,1))\n",
    "        \n",
    "    def forward(self,x):\n",
    "        # x = (n_samples,n_features) \n",
    "        return sigmoid(torch.matmul(x.double(),self.beta.double())).double()\n",
    "    \n",
    "    def predict(self,x):\n",
    "        return sigmoid(np.dot(x,self.beta.detach().numpy()))\n",
    "    \n",
    "    @property\n",
    "    def beta(self):\n",
    "        return self.__beta"
   ]
  },
  {
   "cell_type": "code",
   "execution_count": 23,
   "id": "269195df-3e7e-4b57-b445-f77bf1ae068a",
   "metadata": {},
   "outputs": [],
   "source": [
    "# make training sets tensors\n",
    "\n",
    "X_train = torch.tensor(X_train)\n",
    "y_train = torch.tensor(y_train).reshape(-1,1)"
   ]
  },
  {
   "cell_type": "code",
   "execution_count": 24,
   "id": "37156eca-ab7c-4048-b524-df63a90a4cf4",
   "metadata": {},
   "outputs": [],
   "source": [
    "# +1 for intercept \n",
    "torch_model = Logistic(regression_params['n_features']+1)\n",
    "\n",
    "epochs = 100000\n",
    "optimizer = SGD(torch_model.parameters(),lr=0.2)\n",
    "criterion = torch.nn.BCELoss()\n",
    "\n",
    "# training loop \n",
    "for epoch in range(epochs):\n",
    "    y_pred = torch_model(X_train)\n",
    "    loss = criterion(y_pred,y_train.double())\n",
    "    optimizer.zero_grad()\n",
    "    loss.backward()\n",
    "    optimizer.step()"
   ]
  },
  {
   "cell_type": "code",
   "execution_count": 25,
   "id": "74b90e22-dee6-42ec-b56a-b74535805d81",
   "metadata": {},
   "outputs": [
    {
     "data": {
      "text/plain": [
       "[Parameter containing:\n",
       " tensor([[-5.7750],\n",
       "         [ 0.0247],\n",
       "         [-7.7222],\n",
       "         [ 0.0488],\n",
       "         [ 5.1798],\n",
       "         [ 5.9427]], requires_grad=True)]"
      ]
     },
     "execution_count": 25,
     "metadata": {},
     "output_type": "execute_result"
    }
   ],
   "source": [
    "list(torch_model.parameters())"
   ]
  },
  {
   "cell_type": "code",
   "execution_count": 26,
   "id": "f5c4f499-edbd-471e-9cd2-8d34a436f68f",
   "metadata": {},
   "outputs": [
    {
     "data": {
      "text/plain": [
       "27.4910053291642"
      ]
     },
     "execution_count": 26,
     "metadata": {},
     "output_type": "execute_result"
    }
   ],
   "source": [
    "log_loss(y_test,torch_model.predict(X_test),normalize=False)"
   ]
  },
  {
   "cell_type": "code",
   "execution_count": 27,
   "id": "9e52b110-14a6-4fd4-82bc-80d91dcb5441",
   "metadata": {},
   "outputs": [
    {
     "data": {
      "text/plain": [
       "0.9866803278688525"
      ]
     },
     "execution_count": 27,
     "metadata": {},
     "output_type": "execute_result"
    }
   ],
   "source": [
    "roc_auc_score(y_test,torch_model.predict(X_test))"
   ]
  },
  {
   "cell_type": "code",
   "execution_count": null,
   "id": "47993291-b298-483f-b275-a9b5d902a58f",
   "metadata": {},
   "outputs": [],
   "source": []
  }
 ],
 "metadata": {
  "kernelspec": {
   "display_name": "Python 3",
   "language": "python",
   "name": "python3"
  },
  "language_info": {
   "codemirror_mode": {
    "name": "ipython",
    "version": 3
   },
   "file_extension": ".py",
   "mimetype": "text/x-python",
   "name": "python",
   "nbconvert_exporter": "python",
   "pygments_lexer": "ipython3",
   "version": "3.7.9"
  }
 },
 "nbformat": 4,
 "nbformat_minor": 5
}
