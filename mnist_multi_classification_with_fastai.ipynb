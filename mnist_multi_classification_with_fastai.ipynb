{
 "cells": [
  {
   "cell_type": "code",
   "execution_count": 1,
   "id": "988924e3",
   "metadata": {},
   "outputs": [],
   "source": [
    "from fastcore.all import *\n",
    "from fastai.vision.widgets import *\n",
    "from fastai.vision.all import *\n",
    "\n",
    "import os\n",
    "from os.path import join\n",
    "\n",
    "import PIL\n",
    "import numpy as np\n",
    "\n",
    "import matplotlib.pyplot as plt\n",
    "\n",
    "import torch.nn\n",
    "import torch\n",
    "from torch.utils.data import dataloader, DataLoader\n",
    "\n",
    "from tqdm import tqdm"
   ]
  },
  {
   "cell_type": "code",
   "execution_count": 2,
   "id": "e3a00914",
   "metadata": {},
   "outputs": [
    {
     "data": {
      "text/plain": [
       "Path('C:/Users/0rc44/.fastai/data/mnist_png')"
      ]
     },
     "execution_count": 2,
     "metadata": {},
     "output_type": "execute_result"
    }
   ],
   "source": [
    "path = untar_data(URLs.MNIST)\n",
    "path"
   ]
  },
  {
   "cell_type": "code",
   "execution_count": 7,
   "id": "92e633e8",
   "metadata": {},
   "outputs": [],
   "source": [
    "train_path = path/'training'\n",
    "test_path = path/'testing'"
   ]
  },
  {
   "cell_type": "code",
   "execution_count": 5,
   "id": "65d6b781",
   "metadata": {},
   "outputs": [],
   "source": [
    "train_labels = list()\n",
    "train_data = list()\n",
    "for root,dirs,files in os.walk(train_path):\n",
    "    for file in files:\n",
    "        if file.endswith(\".png\"):\n",
    "            img = PIL.Image.open(join(root,file))\n",
    "            train_data.append(np.asarray(img).flatten())\n",
    "            train_labels.append(parent_label(join(root,file)))\n",
    "\n",
    "# data[0]\n",
    "\n",
    "train_labels = np.array(train_labels,dtype=int)\n",
    "train_data = np.stack(train_data,axis=0)"
   ]
  },
  {
   "cell_type": "code",
   "execution_count": 8,
   "id": "eccc00c9",
   "metadata": {},
   "outputs": [],
   "source": [
    "test_labels = list()\n",
    "test_data = list()\n",
    "for root,dirs,files in os.walk(test_path):\n",
    "    for file in files:\n",
    "        if file.endswith(\".png\"):\n",
    "            img = PIL.Image.open(join(root,file))\n",
    "            test_data.append(np.asarray(img).flatten())\n",
    "            test_labels.append(parent_label(join(root,file)))\n",
    "\n",
    "# data[0]\n",
    "\n",
    "test_labels = np.array(test_labels,dtype=int)\n",
    "test_data = np.stack(test_data,axis=0)"
   ]
  },
  {
   "cell_type": "code",
   "execution_count": 5,
   "id": "f8667251",
   "metadata": {},
   "outputs": [
    {
     "data": {
      "text/plain": [
       "(60000, 784)"
      ]
     },
     "execution_count": 5,
     "metadata": {},
     "output_type": "execute_result"
    }
   ],
   "source": [
    "train_data.shape"
   ]
  },
  {
   "cell_type": "code",
   "execution_count": 6,
   "id": "829c07d9",
   "metadata": {},
   "outputs": [
    {
     "data": {
      "text/plain": [
       "(60000,)"
      ]
     },
     "execution_count": 6,
     "metadata": {},
     "output_type": "execute_result"
    }
   ],
   "source": [
    "train_labels.shape"
   ]
  },
  {
   "cell_type": "code",
   "execution_count": 12,
   "id": "ab8394c4",
   "metadata": {},
   "outputs": [],
   "source": [
    "train_data_n = train_data / 255\n",
    "test_data_n = test_data / 255\n",
    "\n",
    "train_y = train_labels\n",
    "test_y = test_labels"
   ]
  },
  {
   "cell_type": "code",
   "execution_count": 13,
   "id": "78f0569d",
   "metadata": {},
   "outputs": [],
   "source": [
    "X_train = torch.tensor(train_data_n,dtype=torch.float32)\n",
    "X_test = torch.tensor(test_data_n,dtype=torch.float32)\n",
    "\n",
    "\n",
    "y_train = torch.tensor(train_y,dtype=torch.int64)\n",
    "y_test = torch.tensor(test_y,dtype=torch.int64)"
   ]
  },
  {
   "cell_type": "code",
   "execution_count": 14,
   "id": "99f4925f",
   "metadata": {},
   "outputs": [],
   "source": [
    "dset = list(zip(X_train,y_train))\n",
    "dset_valid = list(zip(X_test,y_test))"
   ]
  },
  {
   "cell_type": "code",
   "execution_count": 15,
   "id": "10fc8e0d",
   "metadata": {},
   "outputs": [],
   "source": [
    "dl = DataLoader(dset,batch_size=5,shuffle=True)"
   ]
  },
  {
   "cell_type": "code",
   "execution_count": 16,
   "id": "57703235",
   "metadata": {},
   "outputs": [],
   "source": [
    "dl_valid = DataLoader(dset_valid,batch_size = 264)"
   ]
  },
  {
   "cell_type": "code",
   "execution_count": 17,
   "id": "3398674d",
   "metadata": {},
   "outputs": [],
   "source": [
    "dls = DataLoaders(dl,dl_valid)"
   ]
  },
  {
   "cell_type": "code",
   "execution_count": 19,
   "id": "0b761709",
   "metadata": {},
   "outputs": [
    {
     "data": {
      "text/plain": [
       "tensor([[0., 0., 0.,  ..., 0., 0., 0.],\n",
       "        [0., 0., 0.,  ..., 0., 0., 0.],\n",
       "        [0., 0., 0.,  ..., 0., 0., 0.],\n",
       "        ...,\n",
       "        [0., 0., 0.,  ..., 0., 0., 0.],\n",
       "        [0., 0., 0.,  ..., 0., 0., 0.],\n",
       "        [0., 0., 0.,  ..., 0., 0., 0.]])"
      ]
     },
     "execution_count": 19,
     "metadata": {},
     "output_type": "execute_result"
    }
   ],
   "source": [
    "X_train"
   ]
  },
  {
   "cell_type": "code",
   "execution_count": 20,
   "id": "fdd208fd",
   "metadata": {},
   "outputs": [
    {
     "data": {
      "text/plain": [
       "tensor([[0., 0., 0.,  ..., 0., 0., 0.],\n",
       "        [0., 0., 0.,  ..., 0., 0., 0.],\n",
       "        [0., 0., 0.,  ..., 0., 0., 0.],\n",
       "        ...,\n",
       "        [0., 0., 0.,  ..., 0., 0., 0.],\n",
       "        [0., 0., 0.,  ..., 0., 0., 0.],\n",
       "        [0., 0., 0.,  ..., 0., 0., 0.]])"
      ]
     },
     "execution_count": 20,
     "metadata": {},
     "output_type": "execute_result"
    }
   ],
   "source": [
    "X_test"
   ]
  },
  {
   "cell_type": "code",
   "execution_count": 21,
   "id": "1f057bc6",
   "metadata": {},
   "outputs": [
    {
     "data": {
      "text/plain": [
       "tensor([0, 0, 0,  ..., 9, 9, 9])"
      ]
     },
     "execution_count": 21,
     "metadata": {},
     "output_type": "execute_result"
    }
   ],
   "source": [
    "y_train"
   ]
  },
  {
   "cell_type": "code",
   "execution_count": 22,
   "id": "24512777",
   "metadata": {},
   "outputs": [
    {
     "data": {
      "text/plain": [
       "tensor([0, 0, 0,  ..., 9, 9, 9])"
      ]
     },
     "execution_count": 22,
     "metadata": {},
     "output_type": "execute_result"
    }
   ],
   "source": [
    "y_test"
   ]
  },
  {
   "cell_type": "code",
   "execution_count": 23,
   "id": "978f554c",
   "metadata": {},
   "outputs": [],
   "source": [
    "n_inputs = 28*28\n",
    "n_outputs = len(np.unique(train_labels))\n",
    "\n",
    "seq = torch.nn.Sequential(\n",
    "\n",
    "     torch.nn.Linear(in_features=n_inputs,out_features=128)\n",
    "    ,torch.nn.ReLU()\n",
    "    ,torch.nn.Linear(in_features=128,out_features=64)\n",
    "    ,torch.nn.ReLU()\n",
    "    ,torch.nn.Linear(in_features=64,out_features=n_outputs)\n",
    "    ,torch.nn.Softmax(dim=1)\n",
    "\n",
    "\n",
    ")\n",
    "\n",
    "\n",
    "learn = Learner(dls,seq,loss_func = torch.nn.NLLLoss())"
   ]
  },
  {
   "cell_type": "code",
   "execution_count": 24,
   "id": "21949131",
   "metadata": {},
   "outputs": [
    {
     "name": "stdout",
     "output_type": "stream",
     "text": [
      "epoch     train_loss  valid_loss  time    \n",
      "0         -0.926422   -0.927357   00:38                                                                              \n",
      "1         -0.954916   -0.952713   00:47                                                                              \n",
      "2         -0.962579   -0.963556   00:55                                                                              \n",
      "3         -0.963544   -0.956571   00:52                                                                              \n",
      "4         -0.959253   -0.957820   00:53                                                                              \n",
      "5         -0.970195   -0.967904   00:51                                                                              \n",
      "6         -0.944038   -0.965109   00:54                                                                              \n",
      "7         -0.975436   -0.969567   00:50                                                                              \n",
      "8         -0.975587   -0.967350   00:54                                                                              \n",
      "9         -0.968047   -0.971454   00:58                                                                               \n"
     ]
    }
   ],
   "source": [
    "learn.fit(10,lr=1e-3)"
   ]
  },
  {
   "cell_type": "code",
   "execution_count": 28,
   "id": "be1f8edf",
   "metadata": {},
   "outputs": [
    {
     "data": {
      "text/plain": [
       "tensor(0.9785)"
      ]
     },
     "execution_count": 28,
     "metadata": {},
     "output_type": "execute_result"
    }
   ],
   "source": [
    "(learn.model(X_train).argmax(axis=1) == y_train).float().mean()"
   ]
  }
 ],
 "metadata": {
  "kernelspec": {
   "display_name": "Python 3",
   "language": "python",
   "name": "python3"
  },
  "language_info": {
   "codemirror_mode": {
    "name": "ipython",
    "version": 3
   },
   "file_extension": ".py",
   "mimetype": "text/x-python",
   "name": "python",
   "nbconvert_exporter": "python",
   "pygments_lexer": "ipython3",
   "version": "3.7.9"
  }
 },
 "nbformat": 4,
 "nbformat_minor": 5
}
