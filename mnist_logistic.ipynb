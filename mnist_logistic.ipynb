{
 "cells": [
  {
   "cell_type": "code",
   "execution_count": 1,
   "id": "d42316fa-5c70-4f57-a2a7-91036720c1d7",
   "metadata": {},
   "outputs": [],
   "source": [
    "# library imports\n",
    "import matplotlib.pyplot as plt\n",
    "import numpy as np\n",
    "import requests \n",
    "import gzip\n",
    "import os\n",
    "import random"
   ]
  },
  {
   "cell_type": "code",
   "execution_count": 2,
   "id": "8708a9ec-406b-4537-adb1-450129c28a39",
   "metadata": {},
   "outputs": [],
   "source": [
    "files = [\n",
    "     \"train-images-idx3-ubyte.gz\"\n",
    "    ,\"train-labels-idx1-ubyte.gz\"\n",
    "    ,\"t10k-images-idx3-ubyte.gz\"\n",
    "    ,\"t10k-labels-idx1-ubyte.gz\"\n",
    "]\n",
    "\n",
    "def fetch(file_name,base_url = r\"http://yann.lecun.com/exdb/mnist/\"):\n",
    "    url = \"\".join([base_url,file_name])\n",
    "    \n",
    "    file_path = os.path.join(os.getcwd(),file_name)\n",
    "    \n",
    "    if os.path.isfile(file_path):\n",
    "        print('File exists.')\n",
    "        with open(file_path,mode='rb') as file:\n",
    "            data = file.read()\n",
    "    else:\n",
    "        with open(file_path,mode='wb') as file:\n",
    "            print('File doesn\\'t exist')\n",
    "            data = requests.get(url).content\n",
    "            file.write(data)\n",
    "            \n",
    "    return np.frombuffer(gzip.decompress(data),dtype='uint8').copy()\n",
    "    "
   ]
  },
  {
   "cell_type": "code",
   "execution_count": 3,
   "id": "bcf11de3-01be-43bd-b142-f0fa5afabf81",
   "metadata": {},
   "outputs": [
    {
     "name": "stdout",
     "output_type": "stream",
     "text": [
      "File exists.\n",
      "File exists.\n",
      "File exists.\n",
      "File exists.\n"
     ]
    }
   ],
   "source": [
    "# get data \n",
    "X_train = fetch(files[0])[16:].reshape(-1,28,28).reshape(60000,28*28)\n",
    "y_train = fetch(files[1])[8:].reshape(-1,1)\n",
    "X_test = fetch(files[2])[16:].reshape(-1,28,28).reshape(10000,28*28)\n",
    "y_test = fetch(files[3])[8:].reshape(-1,1)"
   ]
  },
  {
   "cell_type": "code",
   "execution_count": 4,
   "id": "21abdd7d-3d0e-4fc1-bfe6-e0fd2ad7124f",
   "metadata": {},
   "outputs": [],
   "source": [
    "# functions\n",
    "\n",
    "def sigmoid(x):\n",
    "    return 1/(1+np.exp(-x))\n",
    "\n",
    "def predict(x,beta):\n",
    "    return sigmoid(np.dot(x,beta))\n",
    "\n",
    "def gradient_step(beta,grad,step_size=0.01):\n",
    "    return beta - step_size*grad\n",
    "\n",
    "def gradient(x,beta,y_true):\n",
    "    y_pred = predict(x,beta)\n",
    "    \n",
    "    return np.dot(np.transpose(x),(y_pred-y_true))/len(x)"
   ]
  },
  {
   "cell_type": "code",
   "execution_count": 9,
   "id": "8bdc2402-c71e-4399-9233-ed5e428cf253",
   "metadata": {},
   "outputs": [
    {
     "data": {
      "text/plain": [
       "array([[1., 0., 0., ..., 0., 0., 0.],\n",
       "       [1., 0., 0., ..., 0., 0., 0.],\n",
       "       [1., 0., 0., ..., 0., 0., 0.],\n",
       "       ...,\n",
       "       [1., 0., 0., ..., 0., 0., 0.],\n",
       "       [1., 0., 0., ..., 0., 0., 0.],\n",
       "       [1., 0., 0., ..., 0., 0., 0.]])"
      ]
     },
     "execution_count": 9,
     "metadata": {},
     "output_type": "execute_result"
    }
   ],
   "source": [
    "_X_train = np.concatenate([np.ones(shape=(len(X_train),1),dtype='uint8'),X_train/255],axis=1)\n",
    "_X_test = np.concatenate([np.ones(shape=(len(X_test),1),dtype='uint8'),X_test/255],axis=1)\n",
    "_X_train"
   ]
  },
  {
   "cell_type": "code",
   "execution_count": 10,
   "id": "b8e94e5b-8467-4622-9005-a44bccfc1d03",
   "metadata": {},
   "outputs": [
    {
     "data": {
      "text/plain": [
       "array([[0.3637683 , 0.24411957, 0.30329677, ..., 0.69869893, 0.03057352,\n",
       "        0.06731253],\n",
       "       [0.11146246, 0.41700513, 0.79937181, ..., 0.82697239, 0.02409663,\n",
       "        0.88215078],\n",
       "       [0.70372545, 0.45007404, 0.3754152 , ..., 0.3879104 , 0.82390822,\n",
       "        0.70806019],\n",
       "       ...,\n",
       "       [0.14313535, 0.62793024, 0.11809129, ..., 0.16679237, 0.71647557,\n",
       "        0.12507765],\n",
       "       [0.11275735, 0.4041311 , 0.96240302, ..., 0.98106132, 0.67491007,\n",
       "        0.96409064],\n",
       "       [0.88198903, 0.9766257 , 0.44267047, ..., 0.49070328, 0.38218901,\n",
       "        0.62466035]])"
      ]
     },
     "execution_count": 10,
     "metadata": {},
     "output_type": "execute_result"
    }
   ],
   "source": [
    "betas = np.zeros(shape=(_X_train.shape[-1],len(np.unique(y_train))))\n",
    "for _class in np.unique(y_train):\n",
    "    betas[:,_class] = [random.random() for _ in range(len(betas))]\n",
    "betas"
   ]
  },
  {
   "cell_type": "code",
   "execution_count": 11,
   "id": "c9295300-ec76-4502-8fd0-30115d3d881d",
   "metadata": {},
   "outputs": [],
   "source": [
    "epochs = 10000\n",
    "for _class in np.unique(y_train):\n",
    "    beta = betas[:,_class].reshape(-1,1)\n",
    "    for epoch in range(epochs):\n",
    "        grad = gradient(x=_X_train,beta=beta,y_true=(y_train==_class).astype('int'))\n",
    "        beta = gradient_step(beta=beta,grad=grad,step_size=0.1)\n",
    "    betas[:,_class] = beta.flat[:]"
   ]
  },
  {
   "cell_type": "code",
   "execution_count": 12,
   "id": "d87d85ed-f9d4-42af-8964-27e826cb7afe",
   "metadata": {},
   "outputs": [
    {
     "data": {
      "text/plain": [
       "array([[-3.7962427 , -1.79900569, -3.16364639, ..., -1.54495567,\n",
       "        -6.62816593, -4.01619244],\n",
       "       [ 0.11146246,  0.41700513,  0.79937181, ...,  0.82697239,\n",
       "         0.02409663,  0.88215078],\n",
       "       [ 0.70372545,  0.45007404,  0.3754152 , ...,  0.3879104 ,\n",
       "         0.82390822,  0.70806019],\n",
       "       ...,\n",
       "       [ 0.14313535,  0.62793024,  0.11809129, ...,  0.16679237,\n",
       "         0.71647557,  0.12507765],\n",
       "       [ 0.11275735,  0.4041311 ,  0.96240302, ...,  0.98106132,\n",
       "         0.67491007,  0.96409064],\n",
       "       [ 0.88198903,  0.9766257 ,  0.44267047, ...,  0.49070328,\n",
       "         0.38218901,  0.62466035]])"
      ]
     },
     "execution_count": 12,
     "metadata": {},
     "output_type": "execute_result"
    }
   ],
   "source": [
    "betas"
   ]
  },
  {
   "cell_type": "code",
   "execution_count": 13,
   "id": "5fc166e1-f738-41a0-8f50-c7a02a2a9b4f",
   "metadata": {},
   "outputs": [
    {
     "data": {
      "text/plain": [
       "0.9127666666666666"
      ]
     },
     "execution_count": 13,
     "metadata": {},
     "output_type": "execute_result"
    }
   ],
   "source": [
    "# accuracy\n",
    "(np.argmax(predict(_X_train,betas),axis=1).reshape(-1,1) == y_train).mean()"
   ]
  },
  {
   "cell_type": "code",
   "execution_count": 14,
   "id": "4b5ac46e-aa4a-4d41-9fe2-f43f72f96500",
   "metadata": {},
   "outputs": [
    {
     "data": {
      "text/plain": [
       "0.9136"
      ]
     },
     "execution_count": 14,
     "metadata": {},
     "output_type": "execute_result"
    }
   ],
   "source": [
    "# accuracy\n",
    "(np.argmax(predict(_X_test,betas),axis=1).reshape(-1,1) == y_test).mean()"
   ]
  },
  {
   "cell_type": "code",
   "execution_count": null,
   "id": "cb4f1650-379e-453e-ac78-0e4e91cc4176",
   "metadata": {},
   "outputs": [],
   "source": []
  }
 ],
 "metadata": {
  "kernelspec": {
   "display_name": "Python 3",
   "language": "python",
   "name": "python3"
  },
  "language_info": {
   "codemirror_mode": {
    "name": "ipython",
    "version": 3
   },
   "file_extension": ".py",
   "mimetype": "text/x-python",
   "name": "python",
   "nbconvert_exporter": "python",
   "pygments_lexer": "ipython3",
   "version": "3.7.10"
  }
 },
 "nbformat": 4,
 "nbformat_minor": 5
}
