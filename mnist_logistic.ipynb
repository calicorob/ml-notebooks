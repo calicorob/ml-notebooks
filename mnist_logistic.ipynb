{
 "cells": [
  {
   "cell_type": "code",
   "execution_count": 1,
   "id": "d42316fa-5c70-4f57-a2a7-91036720c1d7",
   "metadata": {},
   "outputs": [],
   "source": [
    "# library imports\n",
    "import matplotlib.pyplot as plt\n",
    "import numpy as np\n",
    "import requests \n",
    "import gzip\n",
    "import os\n",
    "import random"
   ]
  },
  {
   "cell_type": "code",
   "execution_count": 2,
   "id": "8708a9ec-406b-4537-adb1-450129c28a39",
   "metadata": {},
   "outputs": [],
   "source": [
    "files = [\n",
    "     \"train-images-idx3-ubyte.gz\"\n",
    "    ,\"train-labels-idx1-ubyte.gz\"\n",
    "    ,\"t10k-images-idx3-ubyte.gz\"\n",
    "    ,\"t10k-labels-idx1-ubyte.gz\"\n",
    "]\n",
    "\n",
    "def fetch(file_name,base_url = r\"http://yann.lecun.com/exdb/mnist/\"):\n",
    "    url = \"\".join([base_url,file_name])\n",
    "    \n",
    "    file_path = os.path.join(os.getcwd(),file_name)\n",
    "    \n",
    "    if os.path.isfile(file_path):\n",
    "        print('File exists.')\n",
    "        with open(file_path,mode='rb') as file:\n",
    "            data = file.read()\n",
    "    else:\n",
    "        with open(file_path,mode='wb') as file:\n",
    "            print('File doesn\\'t exist')\n",
    "            data = requests.get(url).content\n",
    "            file.write(data)\n",
    "            \n",
    "    return np.frombuffer(gzip.decompress(data),dtype='uint8').copy()\n",
    "    "
   ]
  },
  {
   "cell_type": "code",
   "execution_count": 3,
   "id": "bcf11de3-01be-43bd-b142-f0fa5afabf81",
   "metadata": {},
   "outputs": [
    {
     "name": "stdout",
     "output_type": "stream",
     "text": [
      "File exists.\n",
      "File exists.\n",
      "File exists.\n",
      "File exists.\n"
     ]
    }
   ],
   "source": [
    "# get data \n",
    "X_train = fetch(files[0])[16:].reshape(-1,28,28).reshape(60000,28*28)\n",
    "y_train = fetch(files[1])[8:].reshape(-1,1)\n",
    "X_test = fetch(files[2])[16:].reshape(-1,28,28).reshape(10000,28*28)\n",
    "y_test = fetch(files[3])[8:].reshape(-1,1)"
   ]
  },
  {
   "cell_type": "code",
   "execution_count": 4,
   "id": "21abdd7d-3d0e-4fc1-bfe6-e0fd2ad7124f",
   "metadata": {},
   "outputs": [],
   "source": [
    "# functions\n",
    "\n",
    "def sigmoid(x):\n",
    "    return 1/(1+np.exp(-x))\n",
    "\n",
    "def predict(x,beta):\n",
    "    return sigmoid(np.dot(x,beta))\n",
    "\n",
    "def gradient_step(beta,grad,step_size=0.01):\n",
    "    return beta - step_size*grad\n",
    "\n",
    "def gradient(x,beta,y_true):\n",
    "    y_pred = predict(x,beta)\n",
    "    \n",
    "    return np.dot(np.transpose(x),(y_pred-y_true))/len(x)"
   ]
  },
  {
   "cell_type": "code",
   "execution_count": 5,
   "id": "8bdc2402-c71e-4399-9233-ed5e428cf253",
   "metadata": {},
   "outputs": [
    {
     "data": {
      "text/plain": [
       "array([[1., 0., 0., ..., 0., 0., 0.],\n",
       "       [1., 0., 0., ..., 0., 0., 0.],\n",
       "       [1., 0., 0., ..., 0., 0., 0.],\n",
       "       ...,\n",
       "       [1., 0., 0., ..., 0., 0., 0.],\n",
       "       [1., 0., 0., ..., 0., 0., 0.],\n",
       "       [1., 0., 0., ..., 0., 0., 0.]])"
      ]
     },
     "execution_count": 5,
     "metadata": {},
     "output_type": "execute_result"
    }
   ],
   "source": [
    "_X_train = np.concatenate([np.ones(shape=(len(X_train),1),dtype='uint8'),X_train/255],axis=1)\n",
    "_X_test = np.concatenate([np.ones(shape=(len(X_test),1),dtype='uint8'),X_test/255],axis=1)\n",
    "_X_train"
   ]
  },
  {
   "cell_type": "code",
   "execution_count": 6,
   "id": "b8e94e5b-8467-4622-9005-a44bccfc1d03",
   "metadata": {},
   "outputs": [
    {
     "data": {
      "text/plain": [
       "array([[0.94900838, 0.31831055, 0.8573371 , ..., 0.89657499, 0.79285003,\n",
       "        0.72976455],\n",
       "       [0.31036156, 0.89264948, 0.44899933, ..., 0.36894336, 0.81299966,\n",
       "        0.28844186],\n",
       "       [0.53581917, 0.71427855, 0.57444364, ..., 0.96122787, 0.93122161,\n",
       "        0.88932024],\n",
       "       ...,\n",
       "       [0.51879976, 0.91845152, 0.84439345, ..., 0.20615025, 0.9668118 ,\n",
       "        0.51373147],\n",
       "       [0.63399877, 0.85110701, 0.72287598, ..., 0.39927117, 0.29836196,\n",
       "        0.8328765 ],\n",
       "       [0.09722396, 0.49767523, 0.20932396, ..., 0.67837879, 0.06614744,\n",
       "        0.57407812]])"
      ]
     },
     "execution_count": 6,
     "metadata": {},
     "output_type": "execute_result"
    }
   ],
   "source": [
    "betas = np.zeros(shape=(_X_train.shape[-1],len(np.unique(y_train))))\n",
    "for _class in np.unique(y_train):\n",
    "    betas[:,_class] = [random.random() for _ in range(len(betas))]\n",
    "betas"
   ]
  },
  {
   "cell_type": "code",
   "execution_count": 7,
   "id": "c9295300-ec76-4502-8fd0-30115d3d881d",
   "metadata": {},
   "outputs": [],
   "source": [
    "epochs = 10000\n",
    "for _class in np.unique(y_train):\n",
    "    beta = betas[:,_class].reshape(-1,1)\n",
    "    for epoch in range(epochs):\n",
    "        grad = gradient(x=_X_train,beta=beta,y_true=(y_train==_class).astype('int'))\n",
    "        beta = gradient_step(beta=beta,grad=grad,step_size=0.1)\n",
    "    betas[:,_class] = beta.flat[:]"
   ]
  },
  {
   "cell_type": "code",
   "execution_count": 8,
   "id": "d87d85ed-f9d4-42af-8964-27e826cb7afe",
   "metadata": {},
   "outputs": [
    {
     "data": {
      "text/plain": [
       "array([[-3.57388359, -1.75047252, -2.99808312, ..., -1.39988536,\n",
       "        -6.53871189, -3.89485813],\n",
       "       [ 0.31036156,  0.89264948,  0.44899933, ...,  0.36894336,\n",
       "         0.81299966,  0.28844186],\n",
       "       [ 0.53581917,  0.71427855,  0.57444364, ...,  0.96122787,\n",
       "         0.93122161,  0.88932024],\n",
       "       ...,\n",
       "       [ 0.51879976,  0.91845152,  0.84439345, ...,  0.20615025,\n",
       "         0.9668118 ,  0.51373147],\n",
       "       [ 0.63399877,  0.85110701,  0.72287598, ...,  0.39927117,\n",
       "         0.29836196,  0.8328765 ],\n",
       "       [ 0.09722396,  0.49767523,  0.20932396, ...,  0.67837879,\n",
       "         0.06614744,  0.57407812]])"
      ]
     },
     "execution_count": 8,
     "metadata": {},
     "output_type": "execute_result"
    }
   ],
   "source": [
    "betas"
   ]
  },
  {
   "cell_type": "code",
   "execution_count": 9,
   "id": "5fc166e1-f738-41a0-8f50-c7a02a2a9b4f",
   "metadata": {},
   "outputs": [
    {
     "data": {
      "text/plain": [
       "0.9124333333333333"
      ]
     },
     "execution_count": 9,
     "metadata": {},
     "output_type": "execute_result"
    }
   ],
   "source": [
    "# accuracy\n",
    "(np.argmax(predict(_X_train,betas),axis=1).reshape(-1,1) == y_train).mean()"
   ]
  },
  {
   "cell_type": "code",
   "execution_count": 10,
   "id": "4b5ac46e-aa4a-4d41-9fe2-f43f72f96500",
   "metadata": {},
   "outputs": [
    {
     "data": {
      "text/plain": [
       "0.9152"
      ]
     },
     "execution_count": 10,
     "metadata": {},
     "output_type": "execute_result"
    }
   ],
   "source": [
    "# accuracy\n",
    "(np.argmax(predict(_X_test,betas),axis=1).reshape(-1,1) == y_test).mean()"
   ]
  },
  {
   "cell_type": "code",
   "execution_count": null,
   "id": "cb4f1650-379e-453e-ac78-0e4e91cc4176",
   "metadata": {},
   "outputs": [],
   "source": []
  }
 ],
 "metadata": {
  "kernelspec": {
   "display_name": "Python 3",
   "language": "python",
   "name": "python3"
  },
  "language_info": {
   "codemirror_mode": {
    "name": "ipython",
    "version": 3
   },
   "file_extension": ".py",
   "mimetype": "text/x-python",
   "name": "python",
   "nbconvert_exporter": "python",
   "pygments_lexer": "ipython3",
   "version": "3.7.9"
  }
 },
 "nbformat": 4,
 "nbformat_minor": 5
}
