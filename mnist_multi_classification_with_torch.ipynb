{
 "cells": [
  {
   "cell_type": "code",
   "execution_count": 1,
   "id": "988924e3",
   "metadata": {},
   "outputs": [],
   "source": [
    "from fastcore.all import *\n",
    "from fastai.vision.widgets import *\n",
    "from fastai.vision.all import *\n",
    "\n",
    "import os\n",
    "from os.path import join\n",
    "\n",
    "import PIL\n",
    "import numpy as np\n",
    "\n",
    "import matplotlib.pyplot as plt\n",
    "\n",
    "import torch.nn\n",
    "import torch\n",
    "from torch.utils.data import dataloader, DataLoader\n",
    "\n",
    "from tqdm import tqdm"
   ]
  },
  {
   "cell_type": "code",
   "execution_count": 2,
   "id": "e3a00914",
   "metadata": {},
   "outputs": [
    {
     "data": {
      "text/plain": [
       "Path('C:/Users/0rc44/.fastai/data/mnist_png')"
      ]
     },
     "execution_count": 2,
     "metadata": {},
     "output_type": "execute_result"
    }
   ],
   "source": [
    "path = untar_data(URLs.MNIST)\n",
    "path"
   ]
  },
  {
   "cell_type": "code",
   "execution_count": 3,
   "id": "92e633e8",
   "metadata": {},
   "outputs": [],
   "source": [
    "train_path = path/'training'\n",
    "test_path = path/'test'"
   ]
  },
  {
   "cell_type": "code",
   "execution_count": 4,
   "id": "65d6b781",
   "metadata": {},
   "outputs": [],
   "source": [
    "labels = list()\n",
    "data = list()\n",
    "for root,dirs,files in os.walk(train_path):\n",
    "    for file in files:\n",
    "        if file.endswith(\".png\"):\n",
    "            img = PIL.Image.open(join(root,file))\n",
    "            data.append(np.asarray(img).flatten())\n",
    "            labels.append(parent_label(join(root,file)))\n",
    "\n",
    "# data[0]\n",
    "\n",
    "labels = np.array(labels,dtype=int)\n",
    "data = np.stack(data,axis=0)"
   ]
  },
  {
   "cell_type": "code",
   "execution_count": 5,
   "id": "f8667251",
   "metadata": {},
   "outputs": [
    {
     "data": {
      "text/plain": [
       "(60000, 784)"
      ]
     },
     "execution_count": 5,
     "metadata": {},
     "output_type": "execute_result"
    }
   ],
   "source": [
    "data.shape"
   ]
  },
  {
   "cell_type": "code",
   "execution_count": 6,
   "id": "829c07d9",
   "metadata": {},
   "outputs": [
    {
     "data": {
      "text/plain": [
       "(60000,)"
      ]
     },
     "execution_count": 6,
     "metadata": {},
     "output_type": "execute_result"
    }
   ],
   "source": [
    "labels.shape"
   ]
  },
  {
   "cell_type": "code",
   "execution_count": 7,
   "id": "ab8394c4",
   "metadata": {},
   "outputs": [],
   "source": [
    "train_data = data / 255\n",
    "test_data = labels.reshape(-1,1)"
   ]
  },
  {
   "cell_type": "code",
   "execution_count": 8,
   "id": "78f0569d",
   "metadata": {},
   "outputs": [],
   "source": [
    "X = torch.tensor(train_data)\n",
    "y = torch.tensor(test_data).long()"
   ]
  },
  {
   "cell_type": "code",
   "execution_count": 9,
   "id": "99f4925f",
   "metadata": {},
   "outputs": [],
   "source": [
    "dset = list(zip(X,y))"
   ]
  },
  {
   "cell_type": "code",
   "execution_count": 10,
   "id": "10fc8e0d",
   "metadata": {},
   "outputs": [],
   "source": [
    "dl = DataLoader(dset,batch_size=5,shuffle=True)"
   ]
  },
  {
   "cell_type": "code",
   "execution_count": 11,
   "id": "0b761709",
   "metadata": {},
   "outputs": [
    {
     "data": {
      "text/plain": [
       "tensor([[0., 0., 0.,  ..., 0., 0., 0.],\n",
       "        [0., 0., 0.,  ..., 0., 0., 0.],\n",
       "        [0., 0., 0.,  ..., 0., 0., 0.],\n",
       "        ...,\n",
       "        [0., 0., 0.,  ..., 0., 0., 0.],\n",
       "        [0., 0., 0.,  ..., 0., 0., 0.],\n",
       "        [0., 0., 0.,  ..., 0., 0., 0.]], dtype=torch.float64)"
      ]
     },
     "execution_count": 11,
     "metadata": {},
     "output_type": "execute_result"
    }
   ],
   "source": [
    "X"
   ]
  },
  {
   "cell_type": "code",
   "execution_count": 12,
   "id": "1f057bc6",
   "metadata": {},
   "outputs": [
    {
     "data": {
      "text/plain": [
       "tensor([[0],\n",
       "        [0],\n",
       "        [0],\n",
       "        ...,\n",
       "        [9],\n",
       "        [9],\n",
       "        [9]])"
      ]
     },
     "execution_count": 12,
     "metadata": {},
     "output_type": "execute_result"
    }
   ],
   "source": [
    "y"
   ]
  },
  {
   "cell_type": "code",
   "execution_count": 13,
   "id": "c6165209",
   "metadata": {},
   "outputs": [],
   "source": [
    "class Classifier(torch.nn.Module):\n",
    "    def __init__(self,n_inputs,n_outputs):\n",
    "        super(Classifier,self).__init__()\n",
    "        self.seq = torch.nn.Sequential(\n",
    "             torch.nn.Linear(in_features=n_inputs,out_features=128)\n",
    "            ,torch.nn.ReLU()\n",
    "            ,torch.nn.Linear(in_features=128,out_features=64)\n",
    "            ,torch.nn.ReLU()\n",
    "            ,torch.nn.Linear(in_features=64,out_features=n_outputs)\n",
    "            ,torch.nn.Softmax(dim=1)\n",
    "         \n",
    "        )\n",
    "        \n",
    "    def forward(self,x):\n",
    "        return self.seq(x.float())"
   ]
  },
  {
   "cell_type": "code",
   "execution_count": 14,
   "id": "a9cc1c29",
   "metadata": {},
   "outputs": [
    {
     "data": {
      "text/plain": [
       "(60000, 784)"
      ]
     },
     "execution_count": 14,
     "metadata": {},
     "output_type": "execute_result"
    }
   ],
   "source": [
    "data.shape"
   ]
  },
  {
   "cell_type": "code",
   "execution_count": 15,
   "id": "243a1896",
   "metadata": {},
   "outputs": [],
   "source": [
    "torch_model = Classifier(n_inputs = data.shape[-1],n_outputs = 10)"
   ]
  },
  {
   "cell_type": "code",
   "execution_count": 16,
   "id": "cb2b1a9e",
   "metadata": {},
   "outputs": [
    {
     "data": {
      "text/plain": [
       "tensor(0.1080)"
      ]
     },
     "execution_count": 16,
     "metadata": {},
     "output_type": "execute_result"
    }
   ],
   "source": [
    "(torch_model(X).argmax(axis=1) == y.flatten()).float().mean()"
   ]
  },
  {
   "cell_type": "code",
   "execution_count": 17,
   "id": "d5bff0fc",
   "metadata": {},
   "outputs": [
    {
     "name": "stderr",
     "output_type": "stream",
     "text": [
      "100%|████████████████████████████████████████████████████████████████████████████████████████████████████████████████████████████████████████████████████████| 10/10 [01:28<00:00,  8.87s/it]\n"
     ]
    }
   ],
   "source": [
    "epochs = 10\n",
    "\n",
    "criterion = torch.nn.NLLLoss()\n",
    "optimizer = torch.optim.SGD(torch_model.parameters(),lr=0.01)\n",
    "\n",
    "\n",
    "# training loop \n",
    "\n",
    "\n",
    "for epoch in tqdm(range(epochs)):\n",
    "    total_loss = 0.0\n",
    "    for _X, _label in dl: \n",
    "        y_pred = torch_model(_X)\n",
    "        loss = criterion(y_pred,_label.flatten().long())\n",
    "        optimizer.zero_grad()\n",
    "        loss.backward()\n",
    "        optimizer.step()\n",
    "        total_loss += loss.item()"
   ]
  },
  {
   "cell_type": "code",
   "execution_count": 18,
   "id": "8ffa7ff7",
   "metadata": {},
   "outputs": [
    {
     "data": {
      "text/plain": [
       "tensor(0.8637)"
      ]
     },
     "execution_count": 18,
     "metadata": {},
     "output_type": "execute_result"
    }
   ],
   "source": [
    "(torch_model(X).argmax(axis=1) == y.flatten()).float().mean()"
   ]
  },
  {
   "cell_type": "code",
   "execution_count": 19,
   "id": "f3583d5d",
   "metadata": {},
   "outputs": [
    {
     "data": {
      "text/plain": [
       "tensor([[1.0000e+00, 1.0078e-29, 2.8261e-08,  ..., 2.8414e-13, 6.0074e-15,\n",
       "         6.6321e-23],\n",
       "        [9.9999e-01, 1.1518e-22, 8.0416e-08,  ..., 3.3694e-11, 8.3390e-09,\n",
       "         3.6563e-15],\n",
       "        [9.9996e-01, 4.7007e-28, 2.3355e-09,  ..., 1.7429e-11, 3.7935e-05,\n",
       "         4.3548e-15],\n",
       "        ...,\n",
       "        [6.1289e-16, 1.2053e-17, 2.6543e-14,  ..., 9.5521e-08, 1.5398e-08,\n",
       "         1.0000e+00],\n",
       "        [2.4030e-13, 5.8079e-15, 1.1008e-13,  ..., 4.0307e-03, 2.5749e-08,\n",
       "         9.9597e-01],\n",
       "        [1.9041e-15, 1.4735e-12, 3.0994e-12,  ..., 4.2874e-06, 5.1373e-07,\n",
       "         9.9999e-01]], grad_fn=<SoftmaxBackward0>)"
      ]
     },
     "execution_count": 19,
     "metadata": {},
     "output_type": "execute_result"
    }
   ],
   "source": [
    "torch_model(X)"
   ]
  },
  {
   "cell_type": "code",
   "execution_count": 20,
   "id": "0b85fd19",
   "metadata": {},
   "outputs": [
    {
     "name": "stdout",
     "output_type": "stream",
     "text": [
      "Classifier(\n",
      "  (seq): Sequential(\n",
      "    (0): Linear(in_features=784, out_features=128, bias=True)\n",
      "    (1): ReLU()\n",
      "    (2): Linear(in_features=128, out_features=64, bias=True)\n",
      "    (3): ReLU()\n",
      "    (4): Linear(in_features=64, out_features=10, bias=True)\n",
      "    (5): Softmax(dim=1)\n",
      "  )\n",
      ")\n"
     ]
    }
   ],
   "source": [
    "print(torch_model)"
   ]
  }
 ],
 "metadata": {
  "kernelspec": {
   "display_name": "Python 3",
   "language": "python",
   "name": "python3"
  },
  "language_info": {
   "codemirror_mode": {
    "name": "ipython",
    "version": 3
   },
   "file_extension": ".py",
   "mimetype": "text/x-python",
   "name": "python",
   "nbconvert_exporter": "python",
   "pygments_lexer": "ipython3",
   "version": "3.7.9"
  }
 },
 "nbformat": 4,
 "nbformat_minor": 5
}
