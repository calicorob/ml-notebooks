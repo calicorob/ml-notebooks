{
 "cells": [
  {
   "cell_type": "code",
   "execution_count": 1,
   "id": "988924e3",
   "metadata": {},
   "outputs": [],
   "source": [
    "from fastcore.all import *\n",
    "from fastai.vision.widgets import *\n",
    "from fastai.vision.all import *\n",
    "\n",
    "import os\n",
    "from os.path import join\n",
    "\n",
    "import PIL\n",
    "import numpy as np\n",
    "\n",
    "import matplotlib.pyplot as plt\n",
    "\n",
    "import torch.nn\n",
    "import torch\n",
    "\n",
    "from tqdm import tqdm"
   ]
  },
  {
   "cell_type": "code",
   "execution_count": 2,
   "id": "e3a00914",
   "metadata": {},
   "outputs": [
    {
     "data": {
      "text/plain": [
       "Path('C:/Users/0rc44/.fastai/data/mnist_png')"
      ]
     },
     "execution_count": 2,
     "metadata": {},
     "output_type": "execute_result"
    }
   ],
   "source": [
    "path = untar_data(URLs.MNIST)\n",
    "path"
   ]
  },
  {
   "cell_type": "code",
   "execution_count": 3,
   "id": "92e633e8",
   "metadata": {},
   "outputs": [],
   "source": [
    "train_path = path/'training'\n",
    "test_path = path/'test'"
   ]
  },
  {
   "cell_type": "code",
   "execution_count": 4,
   "id": "65d6b781",
   "metadata": {},
   "outputs": [],
   "source": [
    "labels = list()\n",
    "data = list()\n",
    "for root,dirs,files in os.walk(train_path):\n",
    "    for file in files:\n",
    "        if file.endswith(\".png\"):\n",
    "            img = PIL.Image.open(join(root,file))\n",
    "            data.append(np.asarray(img).flatten())\n",
    "            labels.append(parent_label(join(root,file)))\n",
    "\n",
    "# data[0]\n",
    "\n",
    "labels = np.array(labels,dtype=int)\n",
    "data = np.stack(data,axis=0)"
   ]
  },
  {
   "cell_type": "code",
   "execution_count": 5,
   "id": "f8667251",
   "metadata": {},
   "outputs": [
    {
     "data": {
      "text/plain": [
       "(60000, 784)"
      ]
     },
     "execution_count": 5,
     "metadata": {},
     "output_type": "execute_result"
    }
   ],
   "source": [
    "data.shape"
   ]
  },
  {
   "cell_type": "code",
   "execution_count": 6,
   "id": "829c07d9",
   "metadata": {},
   "outputs": [
    {
     "data": {
      "text/plain": [
       "(60000,)"
      ]
     },
     "execution_count": 6,
     "metadata": {},
     "output_type": "execute_result"
    }
   ],
   "source": [
    "labels.shape"
   ]
  },
  {
   "cell_type": "code",
   "execution_count": 7,
   "id": "ab8394c4",
   "metadata": {},
   "outputs": [],
   "source": [
    "train_data = data / 255\n",
    "test_data = labels.reshape(-1,1)"
   ]
  },
  {
   "cell_type": "code",
   "execution_count": 8,
   "id": "78f0569d",
   "metadata": {},
   "outputs": [],
   "source": [
    "X = torch.tensor(train_data)\n",
    "y = torch.tensor(test_data).long()"
   ]
  },
  {
   "cell_type": "code",
   "execution_count": 9,
   "id": "0b761709",
   "metadata": {},
   "outputs": [
    {
     "data": {
      "text/plain": [
       "tensor([[0., 0., 0.,  ..., 0., 0., 0.],\n",
       "        [0., 0., 0.,  ..., 0., 0., 0.],\n",
       "        [0., 0., 0.,  ..., 0., 0., 0.],\n",
       "        ...,\n",
       "        [0., 0., 0.,  ..., 0., 0., 0.],\n",
       "        [0., 0., 0.,  ..., 0., 0., 0.],\n",
       "        [0., 0., 0.,  ..., 0., 0., 0.]], dtype=torch.float64)"
      ]
     },
     "execution_count": 9,
     "metadata": {},
     "output_type": "execute_result"
    }
   ],
   "source": [
    "X"
   ]
  },
  {
   "cell_type": "code",
   "execution_count": 10,
   "id": "1f057bc6",
   "metadata": {},
   "outputs": [
    {
     "data": {
      "text/plain": [
       "tensor([[0],\n",
       "        [0],\n",
       "        [0],\n",
       "        ...,\n",
       "        [9],\n",
       "        [9],\n",
       "        [9]])"
      ]
     },
     "execution_count": 10,
     "metadata": {},
     "output_type": "execute_result"
    }
   ],
   "source": [
    "y"
   ]
  },
  {
   "cell_type": "code",
   "execution_count": 11,
   "id": "c6165209",
   "metadata": {},
   "outputs": [],
   "source": [
    "class Classifier(torch.nn.Module):\n",
    "    def __init__(self,n_inputs,n_outputs):\n",
    "        super(Classifier,self).__init__()\n",
    "        self.seq = torch.nn.Sequential(\n",
    "             torch.nn.Linear(in_features=n_inputs,out_features=128)\n",
    "            ,torch.nn.ReLU()\n",
    "            ,torch.nn.Linear(in_features=128,out_features=64)\n",
    "            ,torch.nn.ReLU()\n",
    "            ,torch.nn.Linear(in_features=64,out_features=n_outputs)\n",
    "            ,torch.nn.Softmax(dim=1)\n",
    "         \n",
    "        )\n",
    "        \n",
    "    def forward(self,x):\n",
    "        return self.seq(x.float())"
   ]
  },
  {
   "cell_type": "code",
   "execution_count": 12,
   "id": "a9cc1c29",
   "metadata": {},
   "outputs": [
    {
     "data": {
      "text/plain": [
       "(60000, 784)"
      ]
     },
     "execution_count": 12,
     "metadata": {},
     "output_type": "execute_result"
    }
   ],
   "source": [
    "data.shape"
   ]
  },
  {
   "cell_type": "code",
   "execution_count": 13,
   "id": "243a1896",
   "metadata": {},
   "outputs": [],
   "source": [
    "torch_model = Classifier(n_inputs = data.shape[-1],n_outputs = 10)"
   ]
  },
  {
   "cell_type": "code",
   "execution_count": 14,
   "id": "45cb0a97",
   "metadata": {},
   "outputs": [
    {
     "data": {
      "text/plain": [
       "tensor([[0.1026, 0.0980, 0.1014,  ..., 0.1047, 0.1017, 0.1032],\n",
       "        [0.1049, 0.1005, 0.0979,  ..., 0.1034, 0.1021, 0.1029],\n",
       "        [0.1040, 0.0985, 0.0996,  ..., 0.1018, 0.1041, 0.1055],\n",
       "        ...,\n",
       "        [0.1082, 0.1005, 0.0989,  ..., 0.1038, 0.1047, 0.1009],\n",
       "        [0.1080, 0.1000, 0.0976,  ..., 0.1013, 0.1021, 0.1030],\n",
       "        [0.1046, 0.1028, 0.0967,  ..., 0.1034, 0.1042, 0.1020]],\n",
       "       grad_fn=<SoftmaxBackward0>)"
      ]
     },
     "execution_count": 14,
     "metadata": {},
     "output_type": "execute_result"
    }
   ],
   "source": [
    "torch_model(X)"
   ]
  },
  {
   "cell_type": "code",
   "execution_count": 15,
   "id": "cb2b1a9e",
   "metadata": {},
   "outputs": [
    {
     "data": {
      "text/plain": [
       "tensor(0.0632)"
      ]
     },
     "execution_count": 15,
     "metadata": {},
     "output_type": "execute_result"
    }
   ],
   "source": [
    "(torch_model(X).argmax(axis=1) == y.flatten()).float().mean()"
   ]
  },
  {
   "cell_type": "code",
   "execution_count": 20,
   "id": "d5bff0fc",
   "metadata": {},
   "outputs": [
    {
     "name": "stderr",
     "output_type": "stream",
     "text": [
      "100%|██████████████████████████████████████████████████████████████████████████████████████████████████████████████████████████████████████████████████| 10000/10000 [37:21<00:00,  4.46it/s]\n"
     ]
    }
   ],
   "source": [
    "epochs = 10000\n",
    "\n",
    "criterion = torch.nn.NLLLoss()\n",
    "optimizer = torch.optim.SGD(torch_model.parameters(),lr=0.01)\n",
    "\n",
    "\n",
    "# training loop \n",
    "for epoch in tqdm(range(epochs)):\n",
    "    y_pred = torch_model(X)\n",
    "    loss = criterion(y_pred,y.flatten().long())\n",
    "    optimizer.zero_grad()\n",
    "    loss.backward()\n",
    "    optimizer.step()"
   ]
  },
  {
   "cell_type": "code",
   "execution_count": 21,
   "id": "8ffa7ff7",
   "metadata": {},
   "outputs": [
    {
     "data": {
      "text/plain": [
       "tensor(0.6740)"
      ]
     },
     "execution_count": 21,
     "metadata": {},
     "output_type": "execute_result"
    }
   ],
   "source": [
    "(torch_model(X).argmax(axis=1) == y.flatten()).float().mean()"
   ]
  },
  {
   "cell_type": "code",
   "execution_count": 22,
   "id": "f3583d5d",
   "metadata": {},
   "outputs": [
    {
     "data": {
      "text/plain": [
       "tensor([[9.9998e-01, 1.4762e-12, 8.3507e-07,  ..., 2.6193e-07, 2.5947e-09,\n",
       "         1.4121e-09],\n",
       "        [9.9951e-01, 1.8488e-10, 9.7753e-05,  ..., 4.2005e-06, 6.5182e-07,\n",
       "         9.8973e-07],\n",
       "        [8.0722e-01, 8.2562e-09, 5.2497e-05,  ..., 2.4375e-04, 7.5642e-08,\n",
       "         8.5401e-07],\n",
       "        ...,\n",
       "        [1.8946e-05, 1.1104e-07, 6.3709e-05,  ..., 1.2392e-02, 4.5193e-06,\n",
       "         8.0505e-04],\n",
       "        [1.1248e-04, 2.5736e-06, 6.7240e-06,  ..., 9.5774e-01, 9.7164e-06,\n",
       "         4.8757e-04],\n",
       "        [1.3517e-04, 9.1844e-05, 3.4854e-04,  ..., 5.0164e-02, 1.0709e-04,\n",
       "         6.8043e-03]], grad_fn=<SoftmaxBackward0>)"
      ]
     },
     "execution_count": 22,
     "metadata": {},
     "output_type": "execute_result"
    }
   ],
   "source": [
    "torch_model(X)"
   ]
  },
  {
   "cell_type": "code",
   "execution_count": 23,
   "id": "0b85fd19",
   "metadata": {},
   "outputs": [
    {
     "name": "stdout",
     "output_type": "stream",
     "text": [
      "Classifier(\n",
      "  (seq): Sequential(\n",
      "    (0): Linear(in_features=784, out_features=128, bias=True)\n",
      "    (1): ReLU()\n",
      "    (2): Linear(in_features=128, out_features=64, bias=True)\n",
      "    (3): ReLU()\n",
      "    (4): Linear(in_features=64, out_features=10, bias=True)\n",
      "    (5): Softmax(dim=1)\n",
      "  )\n",
      ")\n"
     ]
    }
   ],
   "source": [
    "print(torch_model)"
   ]
  },
  {
   "cell_type": "code",
   "execution_count": null,
   "id": "3b91aa01",
   "metadata": {},
   "outputs": [],
   "source": []
  }
 ],
 "metadata": {
  "kernelspec": {
   "display_name": "Python 3",
   "language": "python",
   "name": "python3"
  },
  "language_info": {
   "codemirror_mode": {
    "name": "ipython",
    "version": 3
   },
   "file_extension": ".py",
   "mimetype": "text/x-python",
   "name": "python",
   "nbconvert_exporter": "python",
   "pygments_lexer": "ipython3",
   "version": "3.7.9"
  }
 },
 "nbformat": 4,
 "nbformat_minor": 5
}
