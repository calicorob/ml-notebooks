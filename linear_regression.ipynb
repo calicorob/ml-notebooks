{
 "cells": [
  {
   "cell_type": "code",
   "execution_count": 1,
   "id": "6e9db661-6500-4ac8-8df3-47cbb7e2c649",
   "metadata": {},
   "outputs": [],
   "source": [
    "# library imports\n",
    "\n",
    "from sklearn.datasets import make_regression\n",
    "from sklearn.model_selection import train_test_split\n",
    "from sklearn.linear_model import LinearRegression\n",
    "\n",
    "import statsmodels.api as sm\n",
    "\n",
    "import random\n",
    "\n",
    "import numpy as np"
   ]
  },
  {
   "cell_type": "markdown",
   "id": "d8817652-a18e-4816-b725-43265687f690",
   "metadata": {},
   "source": [
    "# Stasmodels"
   ]
  },
  {
   "cell_type": "code",
   "execution_count": 2,
   "id": "e20e3af7-bcd1-493a-9448-a2a3af391166",
   "metadata": {},
   "outputs": [],
   "source": [
    "# regression data\n",
    "\n",
    "random.seed(0)\n",
    "\n",
    "regression_params = {\n",
    "     'n_samples':1000\n",
    "    ,'n_features':10\n",
    "    ,'n_informative':2\n",
    "    ,'n_targets' : 1\n",
    "    ,'bias':random.randint(0,10)\n",
    "    ,'coef':True\n",
    "}\n",
    "\n",
    "X,y,coef = make_regression(**regression_params)"
   ]
  },
  {
   "cell_type": "code",
   "execution_count": 3,
   "id": "a8550e22-5f87-46b5-9f09-cb41b42c8419",
   "metadata": {},
   "outputs": [
    {
     "name": "stdout",
     "output_type": "stream",
     "text": [
      "(1000, 10)\n"
     ]
    }
   ],
   "source": [
    "print(X.shape)"
   ]
  },
  {
   "cell_type": "code",
   "execution_count": 4,
   "id": "b77f4e46-a72b-4dcb-ac92-e03d882d66a4",
   "metadata": {},
   "outputs": [
    {
     "name": "stdout",
     "output_type": "stream",
     "text": [
      "(1000,)\n"
     ]
    }
   ],
   "source": [
    "print(y.shape)"
   ]
  },
  {
   "cell_type": "code",
   "execution_count": 5,
   "id": "5c1646b4-55ee-4705-a854-0ce4a64b316b",
   "metadata": {},
   "outputs": [
    {
     "data": {
      "text/plain": [
       "array([90.33800587,  0.        ,  0.        ,  0.        ,  0.        ,\n",
       "        0.        ,  0.        , 30.32196966,  0.        ,  0.        ])"
      ]
     },
     "execution_count": 5,
     "metadata": {},
     "output_type": "execute_result"
    }
   ],
   "source": [
    "coef.flat[:]"
   ]
  },
  {
   "cell_type": "code",
   "execution_count": 6,
   "id": "51171f3a-e5d5-4d89-82be-8e63eedef6a8",
   "metadata": {},
   "outputs": [],
   "source": [
    "# add constant\n",
    "\n",
    "X = np.concatenate([X,np.ones(shape=(len(X),1))],axis=1)"
   ]
  },
  {
   "cell_type": "code",
   "execution_count": 7,
   "id": "889b9e5f-577e-4dcf-bee3-5dee37f37fa4",
   "metadata": {},
   "outputs": [],
   "source": [
    "# model\n",
    "model = sm.OLS(endog=y,exog=X)"
   ]
  },
  {
   "cell_type": "code",
   "execution_count": 8,
   "id": "e022b7ab-9159-4fc6-a41f-57bfdff35c76",
   "metadata": {},
   "outputs": [],
   "source": [
    "model = model.fit()"
   ]
  },
  {
   "cell_type": "code",
   "execution_count": 9,
   "id": "315db587-afdc-40a2-ab63-70e951f359db",
   "metadata": {},
   "outputs": [
    {
     "name": "stdout",
     "output_type": "stream",
     "text": [
      "                            OLS Regression Results                            \n",
      "==============================================================================\n",
      "Dep. Variable:                      y   R-squared:                       1.000\n",
      "Model:                            OLS   Adj. R-squared:                  1.000\n",
      "Method:                 Least Squares   F-statistic:                 1.320e+31\n",
      "Date:                Sun, 04 Jul 2021   Prob (F-statistic):               0.00\n",
      "Time:                        11:56:18   Log-Likelihood:                 27540.\n",
      "No. Observations:                1000   AIC:                        -5.506e+04\n",
      "Df Residuals:                     989   BIC:                        -5.500e+04\n",
      "Df Model:                          10                                         \n",
      "Covariance Type:            nonrobust                                         \n",
      "==============================================================================\n",
      "                 coef    std err          t      P>|t|      [0.025      0.975]\n",
      "------------------------------------------------------------------------------\n",
      "x1            90.3380   8.58e-15   1.05e+16      0.000      90.338      90.338\n",
      "x2         -5.906e-14   8.54e-15     -6.919      0.000   -7.58e-14   -4.23e-14\n",
      "x3         -7.925e-14   8.35e-15     -9.486      0.000   -9.56e-14   -6.29e-14\n",
      "x4          7.883e-15   8.37e-15      0.942      0.347   -8.54e-15    2.43e-14\n",
      "x5         -7.394e-14   8.55e-15     -8.644      0.000   -9.07e-14   -5.72e-14\n",
      "x6         -9.659e-14   8.32e-15    -11.615      0.000   -1.13e-13   -8.03e-14\n",
      "x7         -5.729e-14   8.37e-15     -6.844      0.000   -7.37e-14   -4.09e-14\n",
      "x8            30.3220   8.35e-15   3.63e+15      0.000      30.322      30.322\n",
      "x9         -3.819e-14   8.19e-15     -4.662      0.000   -5.43e-14   -2.21e-14\n",
      "x10         2.331e-14   8.44e-15      2.764      0.006    6.76e-15    3.99e-14\n",
      "const          6.0000   8.47e-15   7.08e+14      0.000       6.000       6.000\n",
      "==============================================================================\n",
      "Omnibus:                        2.230   Durbin-Watson:                   1.336\n",
      "Prob(Omnibus):                  0.328   Jarque-Bera (JB):                2.166\n",
      "Skew:                          -0.063   Prob(JB):                        0.339\n",
      "Kurtosis:                       3.190   Cond. No.                         1.23\n",
      "==============================================================================\n",
      "\n",
      "Notes:\n",
      "[1] Standard Errors assume that the covariance matrix of the errors is correctly specified.\n"
     ]
    }
   ],
   "source": [
    "print(model.summary())"
   ]
  },
  {
   "cell_type": "markdown",
   "id": "5d7ab9ae-631b-45b1-952f-b0034e72f0e7",
   "metadata": {},
   "source": [
    "# sklearn"
   ]
  },
  {
   "cell_type": "code",
   "execution_count": 10,
   "id": "1e3eaa90-2375-4a81-b62f-7cc49399172d",
   "metadata": {},
   "outputs": [],
   "source": [
    "model = LinearRegression()"
   ]
  },
  {
   "cell_type": "code",
   "execution_count": 11,
   "id": "399cd6bc-6eb0-414a-bce1-488f500be84a",
   "metadata": {},
   "outputs": [],
   "source": [
    "model = model.fit(X,y)"
   ]
  },
  {
   "cell_type": "code",
   "execution_count": 12,
   "id": "48552b93-a79a-4613-83ad-491af8104134",
   "metadata": {},
   "outputs": [
    {
     "data": {
      "text/plain": [
       "array([ 9.03380059e+01, -7.10542736e-15,  1.68753900e-14,  1.77635684e-15,\n",
       "        2.46469511e-14, -2.04281037e-14, -4.88498131e-15,  3.03219697e+01,\n",
       "        1.59872116e-14, -6.66133815e-16,  0.00000000e+00])"
      ]
     },
     "execution_count": 12,
     "metadata": {},
     "output_type": "execute_result"
    }
   ],
   "source": [
    "model.coef_"
   ]
  },
  {
   "cell_type": "code",
   "execution_count": 13,
   "id": "314cc0bd-6c13-4a13-a604-052efaa42885",
   "metadata": {},
   "outputs": [
    {
     "data": {
      "text/plain": [
       "6.000000000000001"
      ]
     },
     "execution_count": 13,
     "metadata": {},
     "output_type": "execute_result"
    }
   ],
   "source": [
    "model.intercept_"
   ]
  },
  {
   "cell_type": "markdown",
   "id": "25dcce21-36a1-46af-bf1c-daf39cbe724b",
   "metadata": {},
   "source": [
    "# pytorch"
   ]
  },
  {
   "cell_type": "code",
   "execution_count": 14,
   "id": "e4d01e90-7ee5-4111-ae59-f392ad5d72b5",
   "metadata": {},
   "outputs": [],
   "source": [
    "import torch.nn\n",
    "from torch.utils.data import Dataset, DataLoader"
   ]
  },
  {
   "cell_type": "code",
   "execution_count": 23,
   "id": "7ad16bff-7714-499a-b8a8-466568c3cd7b",
   "metadata": {},
   "outputs": [],
   "source": [
    "class Data(Dataset):\n",
    "    def __init__(self,X):\n",
    "        super(Data,self).__init__()\n",
    "        self.X = X\n",
    "        \n",
    "    def __len__(self):\n",
    "        return len(self.X)\n",
    "    \n",
    "    def __getitem__(self,idx):\n",
    "        return X[idx,:]\n",
    "    "
   ]
  }
 ],
 "metadata": {
  "kernelspec": {
   "display_name": "Python 3",
   "language": "python",
   "name": "python3"
  },
  "language_info": {
   "codemirror_mode": {
    "name": "ipython",
    "version": 3
   },
   "file_extension": ".py",
   "mimetype": "text/x-python",
   "name": "python",
   "nbconvert_exporter": "python",
   "pygments_lexer": "ipython3",
   "version": "3.7.10"
  }
 },
 "nbformat": 4,
 "nbformat_minor": 5
}
