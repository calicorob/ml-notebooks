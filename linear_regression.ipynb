{
 "cells": [
  {
   "cell_type": "code",
   "execution_count": 1,
   "id": "6e9db661-6500-4ac8-8df3-47cbb7e2c649",
   "metadata": {},
   "outputs": [],
   "source": [
    "# library imports\n",
    "\n",
    "from sklearn.model_selection import train_test_split\n",
    "import numpy as np"
   ]
  },
  {
   "cell_type": "markdown",
   "id": "d8817652-a18e-4816-b725-43265687f690",
   "metadata": {},
   "source": [
    "# Stasmodels"
   ]
  },
  {
   "cell_type": "code",
   "execution_count": 2,
   "id": "e20e3af7-bcd1-493a-9448-a2a3af391166",
   "metadata": {},
   "outputs": [],
   "source": [
    "# regression data\n",
    "import random\n",
    "from sklearn.datasets import make_regression\n",
    "\n",
    "\n",
    "random.seed(0)\n",
    "\n",
    "regression_params = {\n",
    "     'n_samples':1000\n",
    "    ,'n_features':10\n",
    "    ,'n_informative':2\n",
    "    ,'n_targets' : 1\n",
    "    ,'bias':random.randint(0,10)\n",
    "    ,'coef':True\n",
    "}\n",
    "\n",
    "X,y,coef = make_regression(**regression_params)\n",
    "\n",
    "# add constant\n",
    "\n",
    "X = np.concatenate([X,np.ones(shape=(len(X),1))],axis=1)"
   ]
  },
  {
   "cell_type": "code",
   "execution_count": 3,
   "id": "a8550e22-5f87-46b5-9f09-cb41b42c8419",
   "metadata": {},
   "outputs": [
    {
     "name": "stdout",
     "output_type": "stream",
     "text": [
      "(1000, 11)\n"
     ]
    }
   ],
   "source": [
    "print(X.shape)"
   ]
  },
  {
   "cell_type": "code",
   "execution_count": 4,
   "id": "b77f4e46-a72b-4dcb-ac92-e03d882d66a4",
   "metadata": {},
   "outputs": [
    {
     "name": "stdout",
     "output_type": "stream",
     "text": [
      "(1000,)\n"
     ]
    }
   ],
   "source": [
    "print(y.shape)"
   ]
  },
  {
   "cell_type": "code",
   "execution_count": 5,
   "id": "5c1646b4-55ee-4705-a854-0ce4a64b316b",
   "metadata": {},
   "outputs": [
    {
     "data": {
      "text/plain": [
       "array([ 0.        ,  0.        ,  0.        ,  0.        ,  0.        ,\n",
       "       42.09594831,  0.        ,  0.        , 34.01708583,  0.        ])"
      ]
     },
     "execution_count": 5,
     "metadata": {},
     "output_type": "execute_result"
    }
   ],
   "source": [
    "coef.flat[:]"
   ]
  },
  {
   "cell_type": "code",
   "execution_count": 6,
   "id": "889b9e5f-577e-4dcf-bee3-5dee37f37fa4",
   "metadata": {},
   "outputs": [],
   "source": [
    "import statsmodels.api as sm\n",
    "\n",
    "# model\n",
    "model = sm.OLS(endog=y,exog=X)"
   ]
  },
  {
   "cell_type": "code",
   "execution_count": 7,
   "id": "e022b7ab-9159-4fc6-a41f-57bfdff35c76",
   "metadata": {},
   "outputs": [],
   "source": [
    "model = model.fit()"
   ]
  },
  {
   "cell_type": "code",
   "execution_count": 8,
   "id": "315db587-afdc-40a2-ab63-70e951f359db",
   "metadata": {},
   "outputs": [
    {
     "name": "stdout",
     "output_type": "stream",
     "text": [
      "                            OLS Regression Results                            \n",
      "==============================================================================\n",
      "Dep. Variable:                      y   R-squared:                       1.000\n",
      "Model:                            OLS   Adj. R-squared:                  1.000\n",
      "Method:                 Least Squares   F-statistic:                 6.410e+31\n",
      "Date:                Sun, 04 Jul 2021   Prob (F-statistic):               0.00\n",
      "Time:                        21:17:20   Log-Likelihood:                 28910.\n",
      "No. Observations:                1000   AIC:                        -5.780e+04\n",
      "Df Residuals:                     989   BIC:                        -5.774e+04\n",
      "Df Model:                          10                                         \n",
      "Covariance Type:            nonrobust                                         \n",
      "==============================================================================\n",
      "                 coef    std err          t      P>|t|      [0.025      0.975]\n",
      "------------------------------------------------------------------------------\n",
      "x1         -9.326e-15   2.11e-15     -4.419      0.000   -1.35e-14   -5.18e-15\n",
      "x2          1.081e-14    2.2e-15      4.909      0.000    6.49e-15    1.51e-14\n",
      "x3          4.385e-15   2.17e-15      2.024      0.043    1.34e-16    8.64e-15\n",
      "x4         -8.993e-15   2.09e-15     -4.300      0.000   -1.31e-14   -4.89e-15\n",
      "x5          2.515e-14   2.24e-15     11.247      0.000    2.08e-14    2.95e-14\n",
      "x6            42.0959   2.12e-15   1.99e+16      0.000      42.096      42.096\n",
      "x7          4.219e-15   2.07e-15      2.040      0.042     1.6e-16    8.28e-15\n",
      "x8         -8.882e-15   2.18e-15     -4.078      0.000   -1.32e-14   -4.61e-15\n",
      "x9            34.0171   2.18e-15   1.56e+16      0.000      34.017      34.017\n",
      "x10        -1.266e-14   2.15e-15     -5.881      0.000   -1.69e-14   -8.43e-15\n",
      "const          6.0000   2.15e-15   2.79e+15      0.000       6.000       6.000\n",
      "==============================================================================\n",
      "Omnibus:                        1.215   Durbin-Watson:                   1.141\n",
      "Prob(Omnibus):                  0.545   Jarque-Bera (JB):                1.238\n",
      "Skew:                          -0.084   Prob(JB):                        0.539\n",
      "Kurtosis:                       2.966   Cond. No.                         1.17\n",
      "==============================================================================\n",
      "\n",
      "Notes:\n",
      "[1] Standard Errors assume that the covariance matrix of the errors is correctly specified.\n"
     ]
    }
   ],
   "source": [
    "print(model.summary())"
   ]
  },
  {
   "cell_type": "markdown",
   "id": "5d7ab9ae-631b-45b1-952f-b0034e72f0e7",
   "metadata": {},
   "source": [
    "# sklearn"
   ]
  },
  {
   "cell_type": "code",
   "execution_count": 9,
   "id": "1e3eaa90-2375-4a81-b62f-7cc49399172d",
   "metadata": {},
   "outputs": [],
   "source": [
    "from sklearn.linear_model import LinearRegression\n",
    "\n",
    "model = LinearRegression()"
   ]
  },
  {
   "cell_type": "code",
   "execution_count": 10,
   "id": "399cd6bc-6eb0-414a-bce1-488f500be84a",
   "metadata": {},
   "outputs": [],
   "source": [
    "model = model.fit(X,y)"
   ]
  },
  {
   "cell_type": "code",
   "execution_count": 11,
   "id": "48552b93-a79a-4613-83ad-491af8104134",
   "metadata": {},
   "outputs": [
    {
     "data": {
      "text/plain": [
       "array([ 2.13424997e-14, -1.05471187e-15,  1.91470104e-16, -1.02695630e-14,\n",
       "        3.78273801e-14,  4.20959483e+01, -1.32394096e-14,  0.00000000e+00,\n",
       "        3.40170858e+01,  5.53376789e-15,  0.00000000e+00])"
      ]
     },
     "execution_count": 11,
     "metadata": {},
     "output_type": "execute_result"
    }
   ],
   "source": [
    "model.coef_"
   ]
  },
  {
   "cell_type": "code",
   "execution_count": 12,
   "id": "314cc0bd-6c13-4a13-a604-052efaa42885",
   "metadata": {},
   "outputs": [
    {
     "data": {
      "text/plain": [
       "6.000000000000003"
      ]
     },
     "execution_count": 12,
     "metadata": {},
     "output_type": "execute_result"
    }
   ],
   "source": [
    "model.intercept_"
   ]
  },
  {
   "cell_type": "markdown",
   "id": "25dcce21-36a1-46af-bf1c-daf39cbe724b",
   "metadata": {},
   "source": [
    "# pytorch"
   ]
  },
  {
   "cell_type": "code",
   "execution_count": 13,
   "id": "e4d01e90-7ee5-4111-ae59-f392ad5d72b5",
   "metadata": {},
   "outputs": [],
   "source": [
    "import torch.nn\n",
    "import torch.tensor\n",
    "import torch\n",
    "from torch.utils.data import Dataset, DataLoader\n",
    "from torch.optim import SGD\n"
   ]
  },
  {
   "cell_type": "code",
   "execution_count": 14,
   "id": "7ad16bff-7714-499a-b8a8-466568c3cd7b",
   "metadata": {},
   "outputs": [],
   "source": [
    "class Linear(torch.nn.Module):\n",
    "    def __init__(self,n_features):\n",
    "        super(Linear,self).__init__()\n",
    "        \n",
    "        # (n_features,1) shape tensor\n",
    "        self.__beta = torch.nn.Parameter(torch.rand(n_features,1))\n",
    "        \n",
    "    def forward(self,x):\n",
    "        # x = (n_samples,n_features) \n",
    "        return torch.matmul(x.double(),self.beta.double())\n",
    "    \n",
    "    @property\n",
    "    def beta(self):\n",
    "        return self.__beta\n",
    "        \n",
    "    "
   ]
  },
  {
   "cell_type": "code",
   "execution_count": 15,
   "id": "64d8b031-8732-4088-aa21-30ed0d71742d",
   "metadata": {},
   "outputs": [],
   "source": [
    "model = Linear(regression_params['n_features']+1)"
   ]
  },
  {
   "cell_type": "code",
   "execution_count": 16,
   "id": "af04d00a-794f-45f7-a0d1-a5296ceb4753",
   "metadata": {},
   "outputs": [],
   "source": [
    "criterion = torch.nn.MSELoss()\n",
    "optimizer = SGD(model.parameters(),lr=0.01)"
   ]
  },
  {
   "cell_type": "code",
   "execution_count": 17,
   "id": "ccb7b0ba-be80-4584-8743-f6dadd967c2b",
   "metadata": {},
   "outputs": [
    {
     "data": {
      "text/plain": [
       "tensor([[-1.6070, -0.1948, -1.4790,  ..., -0.9046,  0.1089,  1.0000],\n",
       "        [-1.0662, -2.0468,  1.1391,  ..., -0.0263, -0.3280,  1.0000],\n",
       "        [ 1.3904, -1.2281,  2.8297,  ...,  1.0945, -0.6556,  1.0000],\n",
       "        ...,\n",
       "        [-1.0239, -0.8538,  0.0079,  ..., -0.0048,  0.7092,  1.0000],\n",
       "        [-0.2646,  0.9251,  0.2083,  ...,  1.2735, -0.0123,  1.0000],\n",
       "        [ 0.0425,  1.1152,  0.2463,  ..., -0.2185, -0.4865,  1.0000]],\n",
       "       dtype=torch.float64)"
      ]
     },
     "execution_count": 17,
     "metadata": {},
     "output_type": "execute_result"
    }
   ],
   "source": [
    "X = torch.tensor(X)\n",
    "X"
   ]
  },
  {
   "cell_type": "code",
   "execution_count": 18,
   "id": "23356019-b0f3-4248-a39c-cedb6e789707",
   "metadata": {},
   "outputs": [],
   "source": [
    "y = torch.tensor(y).reshape(-1,1)"
   ]
  },
  {
   "cell_type": "code",
   "execution_count": 19,
   "id": "9d73f4cb-3add-493b-b4c3-a7a3323339c6",
   "metadata": {},
   "outputs": [],
   "source": [
    "epochs = 1000\n",
    "for epoch in range(epochs):\n",
    "    y_pred = model(X)\n",
    "    loss = criterion(y_pred,y)\n",
    "    optimizer.zero_grad()\n",
    "    loss.backward()\n",
    "    optimizer.step()"
   ]
  },
  {
   "cell_type": "code",
   "execution_count": 20,
   "id": "e7324faa-898b-4ae6-b310-1cfde5bcb61d",
   "metadata": {},
   "outputs": [
    {
     "data": {
      "text/plain": [
       "[Parameter containing:\n",
       " tensor([[-5.2649e-07],\n",
       "         [ 1.4773e-06],\n",
       "         [-4.1983e-06],\n",
       "         [-4.9715e-07],\n",
       "         [ 1.4184e-10],\n",
       "         [ 4.2096e+01],\n",
       "         [ 6.7035e-06],\n",
       "         [-1.3783e-06],\n",
       "         [ 3.4017e+01],\n",
       "         [ 1.1463e-05],\n",
       "         [ 6.0000e+00]], requires_grad=True)]"
      ]
     },
     "execution_count": 20,
     "metadata": {},
     "output_type": "execute_result"
    }
   ],
   "source": [
    "list(model.parameters())"
   ]
  },
  {
   "cell_type": "code",
   "execution_count": null,
   "id": "be08b8a7-4939-4bef-a7b7-b29c1ebc9226",
   "metadata": {},
   "outputs": [],
   "source": []
  }
 ],
 "metadata": {
  "kernelspec": {
   "display_name": "Python 3",
   "language": "python",
   "name": "python3"
  },
  "language_info": {
   "codemirror_mode": {
    "name": "ipython",
    "version": 3
   },
   "file_extension": ".py",
   "mimetype": "text/x-python",
   "name": "python",
   "nbconvert_exporter": "python",
   "pygments_lexer": "ipython3",
   "version": "3.7.10"
  }
 },
 "nbformat": 4,
 "nbformat_minor": 5
}
