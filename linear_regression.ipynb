{
 "cells": [
  {
   "cell_type": "code",
   "execution_count": 1,
   "id": "6e9db661-6500-4ac8-8df3-47cbb7e2c649",
   "metadata": {},
   "outputs": [],
   "source": [
    "# library imports\n",
    "\n",
    "from sklearn.model_selection import train_test_split\n",
    "from sklearn.metrics import mean_squared_error\n",
    "import numpy as np"
   ]
  },
  {
   "cell_type": "markdown",
   "id": "d8817652-a18e-4816-b725-43265687f690",
   "metadata": {},
   "source": [
    "# Data"
   ]
  },
  {
   "cell_type": "code",
   "execution_count": 2,
   "id": "e20e3af7-bcd1-493a-9448-a2a3af391166",
   "metadata": {},
   "outputs": [],
   "source": [
    "# regression data\n",
    "import random\n",
    "from sklearn.datasets import make_regression\n",
    "\n",
    "# rng\n",
    "random.seed(0)\n",
    "\n",
    "regression_params = {\n",
    "     'n_samples':1000\n",
    "    ,'n_features':10\n",
    "    ,'n_informative':2\n",
    "    ,'n_targets' : 1\n",
    "    ,'bias':random.randint(0,10)\n",
    "    ,'coef':True\n",
    "}\n",
    "\n",
    "X,y,coef = make_regression(**regression_params)\n",
    "\n",
    "# add constant\n",
    "X = np.concatenate([X,np.ones(shape=(len(X),1))],axis=1)\n",
    "\n",
    "# train / test splits\n",
    "X_train,X_test,y_train,y_test = train_test_split(X,y)"
   ]
  },
  {
   "cell_type": "code",
   "execution_count": 3,
   "id": "5c1646b4-55ee-4705-a854-0ce4a64b316b",
   "metadata": {},
   "outputs": [
    {
     "data": {
      "text/plain": [
       "array([ 0.        , 41.03689551,  0.        ,  0.        , 10.64109235,\n",
       "        0.        ,  0.        ,  0.        ,  0.        ,  0.        ])"
      ]
     },
     "execution_count": 3,
     "metadata": {},
     "output_type": "execute_result"
    }
   ],
   "source": [
    "# true regression coefficients  + bias = 6 (based on random seed)\n",
    "coef.flat[:]"
   ]
  },
  {
   "cell_type": "markdown",
   "id": "762f2dd9-48ee-4ac2-ab35-a828b77637ff",
   "metadata": {},
   "source": [
    "# Stasmodels"
   ]
  },
  {
   "cell_type": "code",
   "execution_count": 4,
   "id": "889b9e5f-577e-4dcf-bee3-5dee37f37fa4",
   "metadata": {},
   "outputs": [],
   "source": [
    "import statsmodels.api as sm\n",
    "\n",
    "# model\n",
    "model = sm.OLS(endog=y_train,exog=X_train)"
   ]
  },
  {
   "cell_type": "code",
   "execution_count": 5,
   "id": "e022b7ab-9159-4fc6-a41f-57bfdff35c76",
   "metadata": {},
   "outputs": [],
   "source": [
    "model = model.fit()"
   ]
  },
  {
   "cell_type": "code",
   "execution_count": 6,
   "id": "315db587-afdc-40a2-ab63-70e951f359db",
   "metadata": {},
   "outputs": [
    {
     "name": "stdout",
     "output_type": "stream",
     "text": [
      "                            OLS Regression Results                            \n",
      "==============================================================================\n",
      "Dep. Variable:                      y   R-squared:                       1.000\n",
      "Model:                            OLS   Adj. R-squared:                  1.000\n",
      "Method:                 Least Squares   F-statistic:                 2.141e+32\n",
      "Date:                Mon, 05 Jul 2021   Prob (F-statistic):               0.00\n",
      "Time:                        11:08:42   Log-Likelihood:                 22416.\n",
      "No. Observations:                 750   AIC:                        -4.481e+04\n",
      "Df Residuals:                     739   BIC:                        -4.476e+04\n",
      "Df Model:                          10                                         \n",
      "Covariance Type:            nonrobust                                         \n",
      "==============================================================================\n",
      "                 coef    std err          t      P>|t|      [0.025      0.975]\n",
      "------------------------------------------------------------------------------\n",
      "x1          6.328e-15   9.63e-16      6.574      0.000    4.44e-15    8.22e-15\n",
      "x2            41.0369   9.16e-16   4.48e+16      0.000      41.037      41.037\n",
      "x3          2.665e-15   8.77e-16      3.039      0.002    9.43e-16    4.39e-15\n",
      "x4         -2.554e-15   9.59e-16     -2.663      0.008   -4.44e-15   -6.71e-16\n",
      "x5            10.6411   9.36e-16   1.14e+16      0.000      10.641      10.641\n",
      "x6          9.381e-15   8.97e-16     10.464      0.000    7.62e-15    1.11e-14\n",
      "x7          -1.11e-15   9.17e-16     -1.210      0.227   -2.91e-15    6.91e-16\n",
      "x8          4.219e-15   9.42e-16      4.478      0.000    2.37e-15    6.07e-15\n",
      "x9                  0   9.62e-16          0      1.000   -1.89e-15    1.89e-15\n",
      "x10         5.662e-15   9.71e-16      5.832      0.000    3.76e-15    7.57e-15\n",
      "const          6.0000   9.34e-16   6.42e+15      0.000       6.000       6.000\n",
      "==============================================================================\n",
      "Omnibus:                        2.871   Durbin-Watson:                   0.817\n",
      "Prob(Omnibus):                  0.238   Jarque-Bera (JB):                2.753\n",
      "Skew:                           0.107   Prob(JB):                        0.252\n",
      "Kurtosis:                       3.206   Cond. No.                         1.25\n",
      "==============================================================================\n",
      "\n",
      "Notes:\n",
      "[1] Standard Errors assume that the covariance matrix of the errors is correctly specified.\n"
     ]
    }
   ],
   "source": [
    "print(model.summary())"
   ]
  },
  {
   "cell_type": "code",
   "execution_count": 7,
   "id": "16c1026a-d91e-4f50-9007-36c545cfc0fd",
   "metadata": {},
   "outputs": [
    {
     "data": {
      "text/plain": [
       "6.366131170960722e-28"
      ]
     },
     "execution_count": 7,
     "metadata": {},
     "output_type": "execute_result"
    }
   ],
   "source": [
    "# MSE\n",
    "mean_squared_error(y_true=y_test,y_pred=model.predict(exog=X_test))"
   ]
  },
  {
   "cell_type": "markdown",
   "id": "5d7ab9ae-631b-45b1-952f-b0034e72f0e7",
   "metadata": {},
   "source": [
    "# sklearn"
   ]
  },
  {
   "cell_type": "code",
   "execution_count": 8,
   "id": "1e3eaa90-2375-4a81-b62f-7cc49399172d",
   "metadata": {},
   "outputs": [],
   "source": [
    "from sklearn.linear_model import LinearRegression\n",
    "\n",
    "model = LinearRegression(fit_intercept=True)"
   ]
  },
  {
   "cell_type": "code",
   "execution_count": 9,
   "id": "399cd6bc-6eb0-414a-bce1-488f500be84a",
   "metadata": {},
   "outputs": [],
   "source": [
    "# exclude intercept column as sklearn add it's own unless fit_intercept=False\n",
    "model = model.fit(X_train[:,0:-1],y_train)"
   ]
  },
  {
   "cell_type": "code",
   "execution_count": 10,
   "id": "48552b93-a79a-4613-83ad-491af8104134",
   "metadata": {},
   "outputs": [
    {
     "data": {
      "text/plain": [
       "array([-2.97345456e-15,  4.10368955e+01,  2.48689958e-14,  1.77635684e-14,\n",
       "        1.06410923e+01,  2.75335310e-14, -7.99360578e-15, -9.76996262e-15,\n",
       "       -3.55271368e-15,  1.77635684e-14])"
      ]
     },
     "execution_count": 10,
     "metadata": {},
     "output_type": "execute_result"
    }
   ],
   "source": [
    "model.coef_"
   ]
  },
  {
   "cell_type": "code",
   "execution_count": 11,
   "id": "314cc0bd-6c13-4a13-a604-052efaa42885",
   "metadata": {},
   "outputs": [
    {
     "data": {
      "text/plain": [
       "6.0"
      ]
     },
     "execution_count": 11,
     "metadata": {},
     "output_type": "execute_result"
    }
   ],
   "source": [
    "model.intercept_"
   ]
  },
  {
   "cell_type": "code",
   "execution_count": 12,
   "id": "63b67571-da69-4261-a41b-f575ec73bdd3",
   "metadata": {},
   "outputs": [
    {
     "data": {
      "text/plain": [
       "3.661835524050761e-27"
      ]
     },
     "execution_count": 12,
     "metadata": {},
     "output_type": "execute_result"
    }
   ],
   "source": [
    "mean_squared_error(y_true=y_test,y_pred=model.predict(X_test[:,0:-1]))"
   ]
  },
  {
   "cell_type": "markdown",
   "id": "25dcce21-36a1-46af-bf1c-daf39cbe724b",
   "metadata": {},
   "source": [
    "# pytorch"
   ]
  },
  {
   "cell_type": "code",
   "execution_count": 13,
   "id": "e4d01e90-7ee5-4111-ae59-f392ad5d72b5",
   "metadata": {},
   "outputs": [],
   "source": [
    "import torch.nn\n",
    "import torch.tensor\n",
    "import torch\n",
    "from torch.optim import SGD"
   ]
  },
  {
   "cell_type": "code",
   "execution_count": 14,
   "id": "7ad16bff-7714-499a-b8a8-466568c3cd7b",
   "metadata": {},
   "outputs": [],
   "source": [
    "class Linear(torch.nn.Module):\n",
    "    def __init__(self,n_features):\n",
    "        super(Linear,self).__init__()\n",
    "        \n",
    "        # (n_features,1) shape tensor\n",
    "        self.__beta = torch.nn.Parameter(torch.rand(n_features,1))\n",
    "        \n",
    "    def forward(self,x):\n",
    "        # x = (n_samples,n_features) \n",
    "        return torch.matmul(x.double(),self.beta.double())\n",
    "    \n",
    "    def predict(self,x):\n",
    "        return np.dot(x,self.beta.detach().numpy())\n",
    "    \n",
    "    @property\n",
    "    def beta(self):\n",
    "        return self.__beta"
   ]
  },
  {
   "cell_type": "code",
   "execution_count": 15,
   "id": "64d8b031-8732-4088-aa21-30ed0d71742d",
   "metadata": {},
   "outputs": [],
   "source": [
    "# +1 for intercept \n",
    "model = Linear(regression_params['n_features']+1)"
   ]
  },
  {
   "cell_type": "code",
   "execution_count": 16,
   "id": "ccb7b0ba-be80-4584-8743-f6dadd967c2b",
   "metadata": {},
   "outputs": [],
   "source": [
    "# make training sets tensors\n",
    "\n",
    "X_train = torch.tensor(X_train)\n",
    "y_train = torch.tensor(y_train).reshape(-1,1)"
   ]
  },
  {
   "cell_type": "code",
   "execution_count": 17,
   "id": "9d73f4cb-3add-493b-b4c3-a7a3323339c6",
   "metadata": {},
   "outputs": [],
   "source": [
    "epochs = 1000\n",
    "criterion = torch.nn.MSELoss()\n",
    "optimizer = SGD(model.parameters(),lr=0.1)\n",
    "\n",
    "# training loop \n",
    "for epoch in range(epochs):\n",
    "    y_pred = model(X_train)\n",
    "    loss = criterion(y_pred,y_train)\n",
    "    optimizer.zero_grad()\n",
    "    loss.backward()\n",
    "    optimizer.step()"
   ]
  },
  {
   "cell_type": "code",
   "execution_count": 18,
   "id": "e7324faa-898b-4ae6-b310-1cfde5bcb61d",
   "metadata": {},
   "outputs": [
    {
     "data": {
      "text/plain": [
       "[Parameter containing:\n",
       " tensor([[ 1.3398e-07],\n",
       "         [ 4.1037e+01],\n",
       "         [ 2.2644e-07],\n",
       "         [-2.9988e-07],\n",
       "         [ 1.0641e+01],\n",
       "         [-2.1932e-07],\n",
       "         [ 3.4094e-07],\n",
       "         [-1.6104e-07],\n",
       "         [ 5.3127e-08],\n",
       "         [ 1.7258e-07],\n",
       "         [ 6.0000e+00]], requires_grad=True)]"
      ]
     },
     "execution_count": 18,
     "metadata": {},
     "output_type": "execute_result"
    }
   ],
   "source": [
    "# regression coefficients \n",
    "list(model.parameters())"
   ]
  },
  {
   "cell_type": "code",
   "execution_count": 19,
   "id": "be08b8a7-4939-4bef-a7b7-b29c1ebc9226",
   "metadata": {},
   "outputs": [
    {
     "data": {
      "text/plain": [
       "5.546837902391962e-11"
      ]
     },
     "execution_count": 19,
     "metadata": {},
     "output_type": "execute_result"
    }
   ],
   "source": [
    "# MSE\n",
    "mean_squared_error(y_true=y_test,y_pred=model.predict(torch.tensor(X_test)))"
   ]
  },
  {
   "cell_type": "markdown",
   "id": "b97df3fd-86d3-42b2-8d79-d306d7707df9",
   "metadata": {},
   "source": [
    "# Pure Python"
   ]
  },
  {
   "cell_type": "code",
   "execution_count": 20,
   "id": "ca842759-0c88-4505-8add-757e17a0f2ad",
   "metadata": {},
   "outputs": [],
   "source": [
    "# turn back into numpy arrays\n",
    "\n",
    "X_train = X_train.numpy()\n",
    "y_train = y_train.numpy()"
   ]
  },
  {
   "cell_type": "code",
   "execution_count": 21,
   "id": "ce44b5bc-2947-4036-955a-e5fd6c29b068",
   "metadata": {},
   "outputs": [],
   "source": [
    "# functions\n",
    "\n",
    "def predict(x,beta):\n",
    "    assert x.shape[-1] == beta.shape[0]\n",
    "    return np.dot(x,beta)\n",
    "\n",
    "def gradient_step(beta,grad,step_size=0.01):\n",
    "    return beta - step_size*grad\n",
    "\n",
    "def gradient(x,beta,y_true):\n",
    "    y_pred = predict(x,beta)\n",
    "    \n",
    "    return np.dot(np.transpose(x),(y_pred-y_true))/len(x)"
   ]
  },
  {
   "cell_type": "code",
   "execution_count": 22,
   "id": "59164808-75e0-4334-a3e5-895f6c8457e7",
   "metadata": {},
   "outputs": [
    {
     "data": {
      "text/plain": [
       "array([[ 9.41155594e-16],\n",
       "       [ 4.10368955e+01],\n",
       "       [ 1.02278097e-15],\n",
       "       [-1.83628733e-15],\n",
       "       [ 1.06410923e+01],\n",
       "       [-1.29341672e-15],\n",
       "       [ 1.54251525e-15],\n",
       "       [-1.09379608e-15],\n",
       "       [-1.79807758e-16],\n",
       "       [ 1.42207178e-15],\n",
       "       [ 6.00000000e+00]])"
      ]
     },
     "execution_count": 22,
     "metadata": {},
     "output_type": "execute_result"
    }
   ],
   "source": [
    "# initial parameters \n",
    "beta = np.array([random.random() for _ in range(regression_params['n_features']+1)]).reshape(-1,1)\n",
    "\n",
    "for epoch in range(epochs):\n",
    "    grad = gradient(x=X_train,beta=beta,y_true=y_train)\n",
    "    beta = gradient_step(beta=beta,grad=grad,step_size=0.1)\n",
    "beta"
   ]
  },
  {
   "cell_type": "code",
   "execution_count": 23,
   "id": "897d7f47-c87c-4735-ac2a-2f27bd45c3f6",
   "metadata": {},
   "outputs": [
    {
     "data": {
      "text/plain": [
       "8.252068825681648e-28"
      ]
     },
     "execution_count": 23,
     "metadata": {},
     "output_type": "execute_result"
    }
   ],
   "source": [
    "# MSE\n",
    "mean_squared_error(y_true=y_test,y_pred=predict(X_test,beta))"
   ]
  }
 ],
 "metadata": {
  "kernelspec": {
   "display_name": "Python 3",
   "language": "python",
   "name": "python3"
  },
  "language_info": {
   "codemirror_mode": {
    "name": "ipython",
    "version": 3
   },
   "file_extension": ".py",
   "mimetype": "text/x-python",
   "name": "python",
   "nbconvert_exporter": "python",
   "pygments_lexer": "ipython3",
   "version": "3.7.10"
  }
 },
 "nbformat": 4,
 "nbformat_minor": 5
}
